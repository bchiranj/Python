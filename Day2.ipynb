{
 "cells": [
  {
   "cell_type": "markdown",
   "id": "2695c1dc",
   "metadata": {},
   "source": [
    "1. Take an input from the user and check the data based on the following condition\n",
    " - The data should be of string data type\n",
    " - The length of the input should lie in the range from 6 to 15 character in length\n",
    "- The input should have atleast 1 capital letter ( A to Z)\n",
    "- 1 smaller letter ( A to J)\n",
    "- 1 Number ( 0 to 9)\n",
    "- 1 Special character (  # @ $  %)\n",
    "\n",
    "In case any of the condition is not valid ask for the input from the user upto 4 times otherwise exit the program by putting a message input give is wrong\n",
    "\n",
    "[NOTE : We don't have to use any input library or using any regular expression or re or no isnumberic() or isalphabat() like this or upper lower method]"
   ]
  },
  {
   "cell_type": "code",
   "execution_count": 3,
   "id": "e20744f6",
   "metadata": {},
   "outputs": [
    {
     "name": "stdout",
     "output_type": "stream",
     "text": [
      "Enter a string :Agbch#4\n",
      "You are good to go\n"
     ]
    }
   ],
   "source": [
    "count=0\n",
    "while(count<4):\n",
    "    inp=input(\"Enter a string :\")\n",
    "    l_flag=False\n",
    "    cap_flag=False\n",
    "    small_flag=False\n",
    "    num_flag=False\n",
    "    spec_flag=False\n",
    "    l=len(inp)\n",
    "    if(l>=6 and l<=15):\n",
    "        l_flag=True\n",
    "    for i in inp:\n",
    "        if i>='A' and i<='Z':\n",
    "            cap_flag=True\n",
    "        if i>='a' and i<='j':\n",
    "            small_flag=True\n",
    "        if '0'<=i<='9':\n",
    "            num_flag=True\n",
    "        if i in '#@$%':\n",
    "            spec_flag=True\n",
    "    flag=l_flag and cap_flag and small_flag and num_flag and spec_flag\n",
    "    if(flag==True):\n",
    "        print(\"You are good to go\")\n",
    "        break\n",
    "    else:\n",
    "         print(\"Please enter a valid string\")\n",
    "    count+=1\n",
    "\n",
    "        \n",
    "        "
   ]
  },
  {
   "cell_type": "code",
   "execution_count": null,
   "id": "22e8b8c9",
   "metadata": {},
   "outputs": [],
   "source": []
  },
  {
   "cell_type": "markdown",
   "id": "405f62f1",
   "metadata": {},
   "source": [
    "2. Take an input string from a user and return all the unique words from the string \n",
    "\tInput  = \"hey user hey tushar hope you are well. hey you\"\n",
    "\t\n",
    "\toutput = \"hey user tushar hope you are well.\""
   ]
  },
  {
   "cell_type": "code",
   "execution_count": 1,
   "id": "194b8fe0",
   "metadata": {},
   "outputs": [
    {
     "name": "stdout",
     "output_type": "stream",
     "text": [
      "Enter a string: hey user hey tushar hope you are well. hey you\n",
      "hope user well. you hey are tushar "
     ]
    }
   ],
   "source": [
    "ip = input(\"Enter a string: \")\n",
    "w = set(ip.split(' '))\n",
    "for i in w:\n",
    "    print(i, end=' ')"
   ]
  },
  {
   "cell_type": "code",
   "execution_count": null,
   "id": "d2ffb373",
   "metadata": {},
   "outputs": [],
   "source": []
  },
  {
   "cell_type": "markdown",
   "id": "6207ae52",
   "metadata": {},
   "source": [
    "3. In the string find out how many vowels are present with it count\n",
    "\tExample: \"Futurense\"\n",
    "\tu => 2 , e=> 2"
   ]
  },
  {
   "cell_type": "code",
   "execution_count": 6,
   "id": "d771cc63",
   "metadata": {},
   "outputs": [
    {
     "name": "stdout",
     "output_type": "stream",
     "text": [
      "{'u': 2, 'e': 2}\n"
     ]
    }
   ],
   "source": [
    "s=\"Futurense\"\n",
    "d={}\n",
    "for i in s:\n",
    "    if i in \"aeiouAEIOU\":\n",
    "        if i not in d.keys():\n",
    "            d[i]=1\n",
    "        else:\n",
    "            d[i]+=1\n",
    "print(d)"
   ]
  },
  {
   "cell_type": "code",
   "execution_count": null,
   "id": "41615e89",
   "metadata": {},
   "outputs": [],
   "source": []
  },
  {
   "cell_type": "markdown",
   "id": "1b93e148",
   "metadata": {},
   "source": [
    "4.  Take input from the user and check for the smallest / least occurance of the chracter and show in the final output with it's      occurance\n",
    "     in case there is a tie print any of the count of first character appearance\n",
    "\n",
    "  Example \"User Banglore\"\n",
    "\t\"U\" has count of 1"
   ]
  },
  {
   "cell_type": "code",
   "execution_count": 7,
   "id": "6a263e64",
   "metadata": {},
   "outputs": [
    {
     "name": "stdout",
     "output_type": "stream",
     "text": [
      "['c', 'h', 'r', 'a', 'n', 'j', 'v']\n",
      " The character with least occurence and first in the string is :  c\n"
     ]
    }
   ],
   "source": [
    "s=\"chiranjeevi\"\n",
    "d={}\n",
    "for i in s:\n",
    "    d[i]=d.get(i,0)+1\n",
    "minimum=min(d.values())\n",
    "minimum_keys=[]\n",
    "for k,v in d.items():\n",
    "    if v==minimum:\n",
    "        minimum_keys.append(k)\n",
    "print(minimum_keys)\n",
    "c=minimum_keys[0]\n",
    "print(\" The character with least occurence and first in the string is : \",c)"
   ]
  },
  {
   "cell_type": "code",
   "execution_count": null,
   "id": "b76fe0d9",
   "metadata": {},
   "outputs": [],
   "source": []
  },
  {
   "cell_type": "markdown",
   "id": "b03f4c08",
   "metadata": {},
   "source": [
    "5. Check the input string provided by the user, in case the string provied is starting with the vowel we add on 'ing' in last\n",
    "   otherwise we add on \"esy\" in the end of the string"
   ]
  },
  {
   "cell_type": "code",
   "execution_count": 2,
   "id": "f60feb1c",
   "metadata": {},
   "outputs": [
    {
     "name": "stdout",
     "output_type": "stream",
     "text": [
      "enter the string : chiru\n",
      "chiruesy\n"
     ]
    }
   ],
   "source": [
    "ip = input(\"enter the string : \")\n",
    "\n",
    "vo = \"aeiou\"\n",
    "\n",
    "val = ip[0]\n",
    "\n",
    "if val in vo:\n",
    "    ip = ip + 'ing'\n",
    "else:\n",
    "    ip = ip + 'esy'\n",
    "print(ip)\n"
   ]
  },
  {
   "cell_type": "code",
   "execution_count": null,
   "id": "ac0316d9",
   "metadata": {},
   "outputs": [],
   "source": []
  },
  {
   "cell_type": "code",
   "execution_count": null,
   "id": "d2c1aa0d",
   "metadata": {},
   "outputs": [],
   "source": []
  },
  {
   "cell_type": "markdown",
   "id": "e7ee8e25",
   "metadata": {},
   "source": [
    "6. Create a list containing elements of different types.In case if the element is of string data type,try to delete the element   from the list,otherwise create square the number and update in the same list"
   ]
  },
  {
   "cell_type": "code",
   "execution_count": 4,
   "id": "175d4873",
   "metadata": {},
   "outputs": [
    {
     "data": {
      "text/plain": [
       "[1, 4, 9, 16, 51.84]"
      ]
     },
     "execution_count": 4,
     "metadata": {},
     "output_type": "execute_result"
    }
   ],
   "source": [
    "l=[1,2,3,\"Hello\",4,7.2]\n",
    "i=0\n",
    "while(i<len(l)):\n",
    "    if type(l[i])==str:\n",
    "        l.remove(l[i])\n",
    "    else:\n",
    "        l[i]=l[i]**2\n",
    "        i+=1\n",
    "l"
   ]
  },
  {
   "cell_type": "code",
   "execution_count": null,
   "id": "964dd1cc",
   "metadata": {},
   "outputs": [],
   "source": []
  },
  {
   "cell_type": "markdown",
   "id": "a7f46fe0",
   "metadata": {},
   "source": [
    "7. Perform union,difference,isdisjoint,issuperset,symmetric_difference_update\n"
   ]
  },
  {
   "cell_type": "code",
   "execution_count": 5,
   "id": "7b1d46ab",
   "metadata": {},
   "outputs": [
    {
     "name": "stdout",
     "output_type": "stream",
     "text": [
      "{1, 2, 3, 4, 5, 6, 7, 9}\n",
      "Difference  {1, 3, 6, 9}\n",
      "isjoint  False\n",
      "issuperset  False\n",
      " symm diff update  {1, 3, 5, 6, 7, 9}\n"
     ]
    }
   ],
   "source": [
    "\n",
    "a={1,2,4,6,3,9}\n",
    "b={2,5,4,7}\n",
    "c=a.union(b)\n",
    "print(c)\n",
    "d=a.difference(b)\n",
    "print(\"Difference \",d)\n",
    "print(\"isjoint \",a.isdisjoint(b))\n",
    "print(\"issuperset \",a.issuperset(b))\n",
    "\n",
    "a.symmetric_difference_update(b)\n",
    "print(\" symm diff update \",a)"
   ]
  },
  {
   "cell_type": "code",
   "execution_count": null,
   "id": "76fb0a1a",
   "metadata": {},
   "outputs": [],
   "source": []
  },
  {
   "cell_type": "code",
   "execution_count": null,
   "id": "fffd423e",
   "metadata": {},
   "outputs": [],
   "source": []
  },
  {
   "cell_type": "code",
   "execution_count": null,
   "id": "3aa433bd",
   "metadata": {},
   "outputs": [],
   "source": []
  },
  {
   "cell_type": "code",
   "execution_count": null,
   "id": "6fd8a62f",
   "metadata": {},
   "outputs": [],
   "source": []
  },
  {
   "cell_type": "code",
   "execution_count": null,
   "id": "e0c4bff5",
   "metadata": {},
   "outputs": [],
   "source": []
  },
  {
   "cell_type": "code",
   "execution_count": null,
   "id": "d7c0f1f3",
   "metadata": {},
   "outputs": [],
   "source": []
  }
 ],
 "metadata": {
  "kernelspec": {
   "display_name": "Python 3 (ipykernel)",
   "language": "python",
   "name": "python3"
  },
  "language_info": {
   "codemirror_mode": {
    "name": "ipython",
    "version": 3
   },
   "file_extension": ".py",
   "mimetype": "text/x-python",
   "name": "python",
   "nbconvert_exporter": "python",
   "pygments_lexer": "ipython3",
   "version": "3.9.13"
  }
 },
 "nbformat": 4,
 "nbformat_minor": 5
}
