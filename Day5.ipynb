{
 "cells": [
  {
   "cell_type": "markdown",
   "id": "9dbe6d96",
   "metadata": {},
   "source": [
    "## Classes and Objects"
   ]
  },
  {
   "cell_type": "code",
   "execution_count": 11,
   "id": "6de4cf08",
   "metadata": {},
   "outputs": [
    {
     "name": "stdout",
     "output_type": "stream",
     "text": [
      "<__main__.StudentDetail object at 0x000001EA5C14D460>\n"
     ]
    }
   ],
   "source": [
    "class StudentDetail:\n",
    "    s_did = 10\n",
    "    s_name = 'chiru'\n",
    "    s_email ='chiru@mail.com'\n",
    "\n",
    "student_obj = StudentDetail()  #we create an object of our class\n",
    "\n",
    "print(student_obj)"
   ]
  },
  {
   "cell_type": "code",
   "execution_count": 12,
   "id": "9269cf8b",
   "metadata": {},
   "outputs": [
    {
     "name": "stdout",
     "output_type": "stream",
     "text": [
      "chiru@mail.com\n"
     ]
    }
   ],
   "source": [
    "print(student_obj.s_email)"
   ]
  },
  {
   "cell_type": "code",
   "execution_count": 13,
   "id": "30b2bba8",
   "metadata": {},
   "outputs": [
    {
     "name": "stdout",
     "output_type": "stream",
     "text": [
      "<__main__.StudentDetail object at 0x000001EA5B9EF820>\n"
     ]
    }
   ],
   "source": [
    "student_obj2 = StudentDetail()  #class can be used to different objects\n",
    "\n",
    "print(student_obj2)"
   ]
  },
  {
   "cell_type": "code",
   "execution_count": 14,
   "id": "34be1211",
   "metadata": {},
   "outputs": [
    {
     "name": "stdout",
     "output_type": "stream",
     "text": [
      "chiru@mail.com\n"
     ]
    }
   ],
   "source": [
    "print(student_obj2.s_email)"
   ]
  },
  {
   "cell_type": "code",
   "execution_count": null,
   "id": "bcb9fc18",
   "metadata": {},
   "outputs": [],
   "source": []
  },
  {
   "cell_type": "code",
   "execution_count": 1,
   "id": "fc25a5c0",
   "metadata": {},
   "outputs": [
    {
     "ename": "TypeError",
     "evalue": "studentInfo() takes 0 positional arguments but 1 was given",
     "output_type": "error",
     "traceback": [
      "\u001b[1;31m---------------------------------------------------------------------------\u001b[0m",
      "\u001b[1;31mTypeError\u001b[0m                                 Traceback (most recent call last)",
      "\u001b[1;32m~\\AppData\\Local\\Temp\\ipykernel_2120\\1055166936.py\u001b[0m in \u001b[0;36m<module>\u001b[1;34m\u001b[0m\n\u001b[0;32m     15\u001b[0m \u001b[0mstudent_obj2\u001b[0m \u001b[1;33m=\u001b[0m \u001b[0mStudentDetail\u001b[0m\u001b[1;33m(\u001b[0m\u001b[1;33m)\u001b[0m  \u001b[1;31m#class can be used to different objects\u001b[0m\u001b[1;33m\u001b[0m\u001b[1;33m\u001b[0m\u001b[0m\n\u001b[0;32m     16\u001b[0m \u001b[1;33m\u001b[0m\u001b[0m\n\u001b[1;32m---> 17\u001b[1;33m \u001b[0mprint\u001b[0m\u001b[1;33m(\u001b[0m\u001b[0mstudent_obj2\u001b[0m\u001b[1;33m.\u001b[0m\u001b[0mstudentInfo\u001b[0m\u001b[1;33m(\u001b[0m\u001b[1;33m)\u001b[0m\u001b[1;33m)\u001b[0m\u001b[1;33m\u001b[0m\u001b[1;33m\u001b[0m\u001b[0m\n\u001b[0m",
      "\u001b[1;31mTypeError\u001b[0m: studentInfo() takes 0 positional arguments but 1 was given"
     ]
    }
   ],
   "source": [
    "class StudentDetail:\n",
    "    s_did = 10\n",
    "    s_name = 'chiru'\n",
    "    s_email ='chiru@mail.com'\n",
    "    \n",
    "#method the class\n",
    "    def studentInfo():\n",
    "        print(\"hello calss studentdetail\")\n",
    "\n",
    "\n",
    "student_obj = StudentDetail()  \n",
    "\n",
    "#print(student_obj.s_id)\n",
    "\n",
    "student_obj2 = StudentDetail()  #class can be used to different objects\n",
    "\n",
    "print(student_obj2.studentInfo())"
   ]
  },
  {
   "cell_type": "code",
   "execution_count": 2,
   "id": "a4b5b731",
   "metadata": {},
   "outputs": [
    {
     "name": "stdout",
     "output_type": "stream",
     "text": [
      "hello calss studentdetail\n",
      "None\n"
     ]
    }
   ],
   "source": [
    "class StudentDetail:\n",
    "    s_did = 10\n",
    "    s_name = 'chiru'\n",
    "    s_email ='chiru@mail.com'\n",
    "    \n",
    "#method the class\n",
    "    def studentInfo(self):\n",
    "        print(\"hello calss studentdetail\")\n",
    "\n",
    "\n",
    "student_obj = StudentDetail()  \n",
    "\n",
    "#print(student_obj.s_id)\n",
    "\n",
    "student_obj2 = StudentDetail()  #class can be used to different objects\n",
    "\n",
    "print(student_obj2.studentInfo())"
   ]
  },
  {
   "cell_type": "code",
   "execution_count": 4,
   "id": "448361c1",
   "metadata": {},
   "outputs": [
    {
     "name": "stdout",
     "output_type": "stream",
     "text": [
      "hello calss studentdetail\n"
     ]
    }
   ],
   "source": [
    "class StudentDetail:\n",
    "    s_did = 10\n",
    "    s_name = 'chiru'\n",
    "    s_email ='chiru@mail.com'\n",
    "    \n",
    "#method the class\n",
    "    def studentInfo(self):\n",
    "        print(\"hello calss studentdetail\")\n",
    "        return none #default is none for return\n",
    "\n",
    "student_obj = StudentDetail()  \n",
    "\n",
    "#print(student_obj.s_id)\n",
    "\n",
    "student_obj2 = StudentDetail()  #class can be used to different objects\n",
    "\n",
    "#print(student_obj2.studentInfo())\n",
    "\n",
    "student_obj2.studentInfo()"
   ]
  },
  {
   "cell_type": "code",
   "execution_count": 5,
   "id": "c6ef6510",
   "metadata": {},
   "outputs": [
    {
     "ename": "NameError",
     "evalue": "name 's_email' is not defined",
     "output_type": "error",
     "traceback": [
      "\u001b[1;31m---------------------------------------------------------------------------\u001b[0m",
      "\u001b[1;31mNameError\u001b[0m                                 Traceback (most recent call last)",
      "\u001b[1;32m~\\AppData\\Local\\Temp\\ipykernel_2120\\3876889329.py\u001b[0m in \u001b[0;36m<module>\u001b[1;34m\u001b[0m\n\u001b[0;32m     17\u001b[0m \u001b[1;31m#print(student_obj2.studentInfo())\u001b[0m\u001b[1;33m\u001b[0m\u001b[1;33m\u001b[0m\u001b[0m\n\u001b[0;32m     18\u001b[0m \u001b[1;33m\u001b[0m\u001b[0m\n\u001b[1;32m---> 19\u001b[1;33m \u001b[0mstudent_obj2\u001b[0m\u001b[1;33m.\u001b[0m\u001b[0mstudentInfo\u001b[0m\u001b[1;33m(\u001b[0m\u001b[1;33m)\u001b[0m\u001b[1;33m\u001b[0m\u001b[1;33m\u001b[0m\u001b[0m\n\u001b[0m",
      "\u001b[1;32m~\\AppData\\Local\\Temp\\ipykernel_2120\\3876889329.py\u001b[0m in \u001b[0;36mstudentInfo\u001b[1;34m(self)\u001b[0m\n\u001b[0;32m      6\u001b[0m \u001b[1;31m#method the class\u001b[0m\u001b[1;33m\u001b[0m\u001b[1;33m\u001b[0m\u001b[0m\n\u001b[0;32m      7\u001b[0m     \u001b[1;32mdef\u001b[0m \u001b[0mstudentInfo\u001b[0m\u001b[1;33m(\u001b[0m\u001b[0mself\u001b[0m\u001b[1;33m)\u001b[0m\u001b[1;33m:\u001b[0m\u001b[1;33m\u001b[0m\u001b[1;33m\u001b[0m\u001b[0m\n\u001b[1;32m----> 8\u001b[1;33m         \u001b[0mprint\u001b[0m\u001b[1;33m(\u001b[0m\u001b[1;34m\"hello calss studentdetail\"\u001b[0m\u001b[1;33m,\u001b[0m \u001b[0ms_email\u001b[0m\u001b[1;33m)\u001b[0m\u001b[1;33m\u001b[0m\u001b[1;33m\u001b[0m\u001b[0m\n\u001b[0m\u001b[0;32m      9\u001b[0m         \u001b[1;32mreturn\u001b[0m \u001b[0mnone\u001b[0m \u001b[1;31m#default is none for return\u001b[0m\u001b[1;33m\u001b[0m\u001b[1;33m\u001b[0m\u001b[0m\n\u001b[0;32m     10\u001b[0m \u001b[1;33m\u001b[0m\u001b[0m\n",
      "\u001b[1;31mNameError\u001b[0m: name 's_email' is not defined"
     ]
    }
   ],
   "source": [
    "class StudentDetail:\n",
    "    s_did = 10\n",
    "    s_name = 'chiru'\n",
    "    s_email ='chiru@mail.com'\n",
    "    \n",
    "#method the class\n",
    "    def studentInfo(self):\n",
    "        print(\"hello calss studentdetail\", s_email)\n",
    "        return none #default is none for return\n",
    "\n",
    "student_obj = StudentDetail()  \n",
    "\n",
    "#print(student_obj.s_id)\n",
    "\n",
    "student_obj2 = StudentDetail()  #class can be used to different objects\n",
    "\n",
    "#print(student_obj2.studentInfo())\n",
    "\n",
    "student_obj2.studentInfo()"
   ]
  },
  {
   "cell_type": "code",
   "execution_count": 7,
   "id": "8eeb4ff7",
   "metadata": {},
   "outputs": [
    {
     "name": "stdout",
     "output_type": "stream",
     "text": [
      "hello calss studentdetail chiru@mail.com\n"
     ]
    }
   ],
   "source": [
    "class StudentDetail:\n",
    "    s_did = 10\n",
    "    s_name = 'chiru'\n",
    "    s_email ='chiru@mail.com'\n",
    "    \n",
    "#method the class\n",
    "    def studentInfo(self):\n",
    "        print(\"hello calss studentdetail\", StudentDetail.s_email)\n",
    "         #default is none for return\n",
    "\n",
    "student_obj = StudentDetail()  \n",
    "\n",
    "#print(student_obj.s_id)\n",
    "\n",
    "student_obj2 = StudentDetail()  #class can be used to different objects\n",
    "\n",
    "#print(student_obj2.studentInfo())\n",
    "\n",
    "student_obj2.studentInfo()"
   ]
  },
  {
   "cell_type": "code",
   "execution_count": 8,
   "id": "8b9ed46b",
   "metadata": {},
   "outputs": [
    {
     "name": "stdout",
     "output_type": "stream",
     "text": [
      "hello calss studentdetail chiru@mail.com\n"
     ]
    }
   ],
   "source": [
    "class StudentDetail:\n",
    "    s_did = 10\n",
    "    s_name = 'chiru'\n",
    "    s_email ='chiru@mail.com'\n",
    "    \n",
    "#method the class\n",
    "    def studentInfo(self):\n",
    "        print(\"hello calss studentdetail\", self.s_email)\n",
    "         #default is none for return\n",
    "\n",
    "student_obj = StudentDetail()  \n",
    "\n",
    "#print(student_obj.s_id)\n",
    "\n",
    "student_obj2 = StudentDetail()  #class can be used to different objects\n",
    "\n",
    "#print(student_obj2.studentInfo())\n",
    "\n",
    "student_obj2.studentInfo()"
   ]
  },
  {
   "cell_type": "code",
   "execution_count": null,
   "id": "9637af41",
   "metadata": {},
   "outputs": [],
   "source": []
  },
  {
   "cell_type": "code",
   "execution_count": 11,
   "id": "43a8474a",
   "metadata": {},
   "outputs": [
    {
     "name": "stdout",
     "output_type": "stream",
     "text": [
      "10\n"
     ]
    }
   ],
   "source": [
    "print(StudentDetail.s_did) #accessing using class name"
   ]
  },
  {
   "cell_type": "code",
   "execution_count": null,
   "id": "b3b2849e",
   "metadata": {},
   "outputs": [],
   "source": [
    "#changing inside the class for a particular object\n",
    "#IF you have a class variable and if you make the chnages with the object of class, chnages done in memory of object\n",
    "#original data in class will be same in the class"
   ]
  },
  {
   "cell_type": "code",
   "execution_count": 21,
   "id": "189ce055",
   "metadata": {},
   "outputs": [],
   "source": [
    "student_obj.s_did = 99"
   ]
  },
  {
   "cell_type": "code",
   "execution_count": 14,
   "id": "386140e3",
   "metadata": {},
   "outputs": [
    {
     "name": "stdout",
     "output_type": "stream",
     "text": [
      "99\n"
     ]
    }
   ],
   "source": [
    "print(student_obj.s_did) #in object memory changed"
   ]
  },
  {
   "cell_type": "code",
   "execution_count": 15,
   "id": "3b4bc80b",
   "metadata": {},
   "outputs": [
    {
     "name": "stdout",
     "output_type": "stream",
     "text": [
      "10\n"
     ]
    }
   ],
   "source": [
    "print(StudentDetail.s_did) #same still in class"
   ]
  },
  {
   "cell_type": "code",
   "execution_count": 16,
   "id": "ba522c71",
   "metadata": {},
   "outputs": [],
   "source": [
    "#class variable changed with classname\n",
    "\n",
    "StudentDetail.s_did = 44"
   ]
  },
  {
   "cell_type": "code",
   "execution_count": 17,
   "id": "4bb231dd",
   "metadata": {},
   "outputs": [
    {
     "name": "stdout",
     "output_type": "stream",
     "text": [
      "44\n"
     ]
    }
   ],
   "source": [
    "print(StudentDetail.s_did)"
   ]
  },
  {
   "cell_type": "code",
   "execution_count": 18,
   "id": "1e270836",
   "metadata": {},
   "outputs": [
    {
     "name": "stdout",
     "output_type": "stream",
     "text": [
      "99\n"
     ]
    }
   ],
   "source": [
    "print(student_obj.s_did)"
   ]
  },
  {
   "cell_type": "code",
   "execution_count": 19,
   "id": "07a15e9e",
   "metadata": {},
   "outputs": [
    {
     "name": "stdout",
     "output_type": "stream",
     "text": [
      "44\n"
     ]
    }
   ],
   "source": [
    "print(student_obj2.s_did)"
   ]
  },
  {
   "cell_type": "code",
   "execution_count": 22,
   "id": "be0d90b2",
   "metadata": {},
   "outputs": [
    {
     "name": "stdout",
     "output_type": "stream",
     "text": [
      "99\n"
     ]
    }
   ],
   "source": [
    "#now reassigning the object to class and checking the s_did\n",
    "\n",
    "#checking the id of student in object before reassigning\n",
    "\n",
    "print(student_obj.s_did)"
   ]
  },
  {
   "cell_type": "code",
   "execution_count": 23,
   "id": "522ae748",
   "metadata": {},
   "outputs": [],
   "source": [
    "student_obj = StudentDetail() "
   ]
  },
  {
   "cell_type": "code",
   "execution_count": 24,
   "id": "ca4d1c3b",
   "metadata": {},
   "outputs": [
    {
     "name": "stdout",
     "output_type": "stream",
     "text": [
      "44\n"
     ]
    }
   ],
   "source": [
    "#printing after reassigning\n",
    "\n",
    "print(student_obj.s_did)"
   ]
  },
  {
   "cell_type": "code",
   "execution_count": null,
   "id": "82bca782",
   "metadata": {},
   "outputs": [],
   "source": []
  },
  {
   "cell_type": "code",
   "execution_count": null,
   "id": "2f143551",
   "metadata": {},
   "outputs": [],
   "source": []
  },
  {
   "cell_type": "code",
   "execution_count": 26,
   "id": "313b063a",
   "metadata": {},
   "outputs": [],
   "source": [
    "class student:\n",
    "    age = 10"
   ]
  },
  {
   "cell_type": "code",
   "execution_count": 27,
   "id": "f6d76f46",
   "metadata": {},
   "outputs": [
    {
     "name": "stdout",
     "output_type": "stream",
     "text": [
      "10 object result\n",
      "10 class result\n",
      "after change in class object\n",
      "99 after change in object\n",
      "88 after change in class\n"
     ]
    }
   ],
   "source": [
    "\n",
    "s1 = student()\n",
    "\n",
    "print(s1.age, \"object result\")\n",
    "\n",
    "print(student.age, \"class result\")\n",
    "\n",
    "print(\"after change in class object\")\n",
    "\n",
    "s1.age = 99\n",
    "print(s1.age, \"after change in object\")\n",
    "student.age = 88\n",
    "print(student.age, \"after change in class\")"
   ]
  },
  {
   "cell_type": "code",
   "execution_count": null,
   "id": "43db6284",
   "metadata": {},
   "outputs": [],
   "source": []
  },
  {
   "cell_type": "markdown",
   "id": "9c48b966",
   "metadata": {},
   "source": [
    "## Constructors"
   ]
  },
  {
   "cell_type": "markdown",
   "id": "b97c28c0",
   "metadata": {},
   "source": [
    "- methods used to initialize memory for the evrry object variables\n",
    "\n",
    " object => constructor will be called to initialize the memory location"
   ]
  },
  {
   "cell_type": "code",
   "execution_count": null,
   "id": "00fa23e9",
   "metadata": {},
   "outputs": [],
   "source": []
  },
  {
   "cell_type": "code",
   "execution_count": 34,
   "id": "324cc076",
   "metadata": {},
   "outputs": [
    {
     "name": "stdout",
     "output_type": "stream",
     "text": [
      "hey\n"
     ]
    }
   ],
   "source": [
    "class student:\n",
    "    \n",
    "    #dunder method\n",
    "    def __init__(self):  #2 underscores to be used\n",
    "        print(\"hey\")\n",
    "        \n",
    "s1 =student()"
   ]
  },
  {
   "cell_type": "code",
   "execution_count": null,
   "id": "75405307",
   "metadata": {},
   "outputs": [],
   "source": []
  },
  {
   "cell_type": "code",
   "execution_count": 37,
   "id": "2e20a33e",
   "metadata": {},
   "outputs": [
    {
     "name": "stdout",
     "output_type": "stream",
     "text": [
      "second one\n"
     ]
    }
   ],
   "source": [
    "class student:\n",
    "    \n",
    "    #dunder method\n",
    "    def __init__(self):  \n",
    "        print(\"hey\")\n",
    "        \n",
    "    def __init__(self):  \n",
    "        print(\"second one\")  #only latest constructor will be invoked , so only second one is printed\n",
    "        \n",
    "s1 =student()"
   ]
  },
  {
   "cell_type": "code",
   "execution_count": null,
   "id": "a1fcc77b",
   "metadata": {},
   "outputs": [],
   "source": []
  },
  {
   "cell_type": "code",
   "execution_count": 38,
   "id": "a7f5cebf",
   "metadata": {},
   "outputs": [
    {
     "name": "stdout",
     "output_type": "stream",
     "text": [
      "<__main__.student object at 0x000002056F340F40>\n",
      "<__main__.student object at 0x000002056F340F40>\n",
      "10\n"
     ]
    }
   ],
   "source": [
    "class student:\n",
    "    \n",
    "    def __init__(self):   #in self keyword we are passing the memory reference of the object  \n",
    "        print(self)\n",
    "        self.s_id = 10\n",
    "        \n",
    "s1 =student()   #calling the contrcutur\n",
    "print(s1)\n",
    "print(s1.s_id)"
   ]
  },
  {
   "cell_type": "code",
   "execution_count": 39,
   "id": "2b49261c",
   "metadata": {},
   "outputs": [
    {
     "name": "stdout",
     "output_type": "stream",
     "text": [
      "<__main__.student object at 0x000002056F3537C0>\n",
      "<__main__.student object at 0x000002056F3537C0>\n",
      "10\n"
     ]
    }
   ],
   "source": [
    "class student:\n",
    "    \n",
    "    def __init__(x):   #can change the self keyword to any variable , variable is reference of current object\n",
    "        print(x)\n",
    "        x.s_id = 10\n",
    "        \n",
    "s1 =student()   #calling the contrcutur\n",
    "print(s1)\n",
    "print(s1.s_id)"
   ]
  },
  {
   "cell_type": "code",
   "execution_count": null,
   "id": "1124eb7e",
   "metadata": {},
   "outputs": [],
   "source": []
  },
  {
   "cell_type": "code",
   "execution_count": 42,
   "id": "0ea787da",
   "metadata": {},
   "outputs": [
    {
     "ename": "TypeError",
     "evalue": "__init__() missing 1 required positional argument: 'userId'",
     "output_type": "error",
     "traceback": [
      "\u001b[1;31m---------------------------------------------------------------------------\u001b[0m",
      "\u001b[1;31mTypeError\u001b[0m                                 Traceback (most recent call last)",
      "\u001b[1;32m~\\AppData\\Local\\Temp\\ipykernel_2120\\1617746140.py\u001b[0m in \u001b[0;36m<module>\u001b[1;34m\u001b[0m\n\u001b[0;32m      5\u001b[0m         \u001b[0mself\u001b[0m\u001b[1;33m.\u001b[0m\u001b[0ms_id\u001b[0m \u001b[1;33m=\u001b[0m \u001b[0muserId\u001b[0m\u001b[1;33m\u001b[0m\u001b[1;33m\u001b[0m\u001b[0m\n\u001b[0;32m      6\u001b[0m \u001b[1;33m\u001b[0m\u001b[0m\n\u001b[1;32m----> 7\u001b[1;33m \u001b[0ms1\u001b[0m \u001b[1;33m=\u001b[0m\u001b[0mstudent\u001b[0m\u001b[1;33m(\u001b[0m\u001b[1;33m)\u001b[0m\u001b[1;33m\u001b[0m\u001b[1;33m\u001b[0m\u001b[0m\n\u001b[0m\u001b[0;32m      8\u001b[0m \u001b[0mprint\u001b[0m\u001b[1;33m(\u001b[0m\u001b[0ms1\u001b[0m\u001b[1;33m)\u001b[0m\u001b[1;33m\u001b[0m\u001b[1;33m\u001b[0m\u001b[0m\n\u001b[0;32m      9\u001b[0m \u001b[0mprint\u001b[0m\u001b[1;33m(\u001b[0m\u001b[0ms1\u001b[0m\u001b[1;33m.\u001b[0m\u001b[0ms_id\u001b[0m\u001b[1;33m)\u001b[0m\u001b[1;33m\u001b[0m\u001b[1;33m\u001b[0m\u001b[0m\n",
      "\u001b[1;31mTypeError\u001b[0m: __init__() missing 1 required positional argument: 'userId'"
     ]
    }
   ],
   "source": [
    "class student:\n",
    "    \n",
    "    def __init__(self, userId):     \n",
    "        \n",
    "        self.s_id = userId\n",
    "        \n",
    "s1 =student()  \n",
    "print(s1)\n",
    "print(s1.s_id)"
   ]
  },
  {
   "cell_type": "code",
   "execution_count": 44,
   "id": "f6612e66",
   "metadata": {},
   "outputs": [
    {
     "name": "stdout",
     "output_type": "stream",
     "text": [
      "10\n"
     ]
    }
   ],
   "source": [
    "class student:\n",
    "    \n",
    "    def __init__(self, userId):     \n",
    "        \n",
    "        self.s_id = userId\n",
    "        \n",
    "s1 =student(10)  \n",
    "\n",
    "print(s1.s_id)"
   ]
  },
  {
   "cell_type": "code",
   "execution_count": 46,
   "id": "bbba5a0d",
   "metadata": {},
   "outputs": [
    {
     "name": "stdout",
     "output_type": "stream",
     "text": [
      "10 s1 obj\n",
      "8798 s2 obj\n"
     ]
    }
   ],
   "source": [
    "class student:\n",
    "    \n",
    "    def __init__(self, userId):     \n",
    "        \n",
    "        self.s_id = userId\n",
    "        \n",
    "s1 =student(10)  \n",
    "\n",
    "print(s1.s_id, 's1 obj')\n",
    "\n",
    "s2 = student(8798)\n",
    "print(s2.s_id, 's2 obj')"
   ]
  },
  {
   "cell_type": "code",
   "execution_count": null,
   "id": "a834ac47",
   "metadata": {},
   "outputs": [],
   "source": []
  },
  {
   "cell_type": "code",
   "execution_count": 47,
   "id": "4842debc",
   "metadata": {},
   "outputs": [
    {
     "name": "stdout",
     "output_type": "stream",
     "text": [
      "10 s1 obj\n",
      "8798 s2 obj\n"
     ]
    }
   ],
   "source": [
    "class student:\n",
    "    \n",
    "    def __init__(self, s_id): #can give same name as variable     \n",
    "        \n",
    "        self.s_id = s_id\n",
    "        \n",
    "s1 =student(10)  \n",
    "\n",
    "print(s1.s_id, 's1 obj')\n",
    "\n",
    "s2 = student(8798)\n",
    "print(s2.s_id, 's2 obj')"
   ]
  },
  {
   "cell_type": "code",
   "execution_count": null,
   "id": "5dc05988",
   "metadata": {},
   "outputs": [],
   "source": []
  },
  {
   "cell_type": "code",
   "execution_count": 48,
   "id": "03a60260",
   "metadata": {},
   "outputs": [
    {
     "name": "stdout",
     "output_type": "stream",
     "text": [
      "10 chiru chiru@mail.com\n"
     ]
    }
   ],
   "source": [
    "class student:\n",
    "    \n",
    "    def __init__(self, s_id, s_name, s_email):     \n",
    "        \n",
    "        self.s_id = s_id\n",
    "        self.s_name = s_name\n",
    "        self.s_email = s_email\n",
    "        \n",
    "s1 =student(10, 'chiru', 'chiru@mail.com')  \n",
    "\n",
    "print(s1.s_id, s1.s_name, s1.s_email)\n",
    "\n"
   ]
  },
  {
   "cell_type": "code",
   "execution_count": 50,
   "id": "ffa92b67",
   "metadata": {},
   "outputs": [
    {
     "name": "stdout",
     "output_type": "stream",
     "text": [
      "1001 chiru chiru@mail.com\n"
     ]
    }
   ],
   "source": [
    "class student:\n",
    "    \n",
    "    def __init__(self, s_id, s_name, s_email):     \n",
    "        \n",
    "        self.s_id = s_id\n",
    "        self.s_name = s_name\n",
    "        self.s_email = s_email\n",
    "        \n",
    "s1 =student(10, 'chiru', 'chiru@mail.com')  \n",
    "\n",
    "s1.s_id = 1001\n",
    "\n",
    "print(s1.s_id, s1.s_name, s1.s_email)\n",
    "\n"
   ]
  },
  {
   "cell_type": "code",
   "execution_count": null,
   "id": "772cd76c",
   "metadata": {},
   "outputs": [],
   "source": []
  },
  {
   "cell_type": "code",
   "execution_count": 52,
   "id": "6f769052",
   "metadata": {},
   "outputs": [
    {
     "name": "stdout",
     "output_type": "stream",
     "text": [
      "student id :  10\n"
     ]
    }
   ],
   "source": [
    "class student:\n",
    "    \n",
    "    def __init__(self, s_id, s_name, s_email):     \n",
    "        \n",
    "        self.s_id = s_id\n",
    "        self.s_name = s_name\n",
    "        self.s_email = s_email\n",
    "        \n",
    "    def studentInfo(self, salary):\n",
    "        print(\"student id : \", self.s_id)\n",
    "        \n",
    "s1 =student(10, 'chiru', 'chiru@mail.com')  \n",
    "\n",
    "#print(s1.s_id, s1.s_name, s1.s_email)\n",
    "\n",
    "s1.studentInfo(99)  #99 will be passed to salary and s1 will be to self\n",
    "\n"
   ]
  },
  {
   "cell_type": "code",
   "execution_count": null,
   "id": "0409ee3e",
   "metadata": {},
   "outputs": [],
   "source": []
  },
  {
   "cell_type": "code",
   "execution_count": null,
   "id": "0ab95c33",
   "metadata": {},
   "outputs": [],
   "source": [
    "#Create a class containing student name and marks(list)"
   ]
  },
  {
   "cell_type": "code",
   "execution_count": 54,
   "id": "301063cb",
   "metadata": {},
   "outputs": [
    {
     "name": "stdout",
     "output_type": "stream",
     "text": [
      "dhan [10, 20, 30]\n",
      "average marks  20.0\n"
     ]
    }
   ],
   "source": [
    "class stud1:\n",
    "    \n",
    "    def __init__(x, sname, smarks):\n",
    "        x.sname = sname\n",
    "        x.smarks = smarks\n",
    "        \n",
    "    def avgmarks(x):\n",
    "        return sum(x.smarks) / len(x.smarks)\n",
    "        \n",
    "s1 = stud1('dhan', [10,20,30])\n",
    "\n",
    "print(s1.sname, s1.smarks)\n",
    "\n",
    "print('average marks ', s1.avgmarks())"
   ]
  },
  {
   "cell_type": "code",
   "execution_count": null,
   "id": "1030317e",
   "metadata": {},
   "outputs": [],
   "source": []
  },
  {
   "cell_type": "code",
   "execution_count": 56,
   "id": "0c4cfbb6",
   "metadata": {},
   "outputs": [
    {
     "name": "stdout",
     "output_type": "stream",
     "text": [
      "dhan [10, 20, 30]\n",
      "before function  <__main__.stud1 object at 0x000002056F256D60>\n",
      "20.0\n"
     ]
    }
   ],
   "source": [
    "class stud1:\n",
    "    \n",
    "    def __init__(x, sname, smarks):\n",
    "        x.sname = sname\n",
    "        x.smarks = smarks\n",
    "        \n",
    "    def avgmarks(x):\n",
    "        return sum(x.smarks) / len(x.smarks)\n",
    "        \n",
    "s1 = stud1('dhan', [10,20,30])\n",
    "\n",
    "print(s1.sname, s1.smarks)\n",
    "\n",
    "#print('average marks ', s1.avgmarks())\n",
    "\n",
    "print(\"before function \", s1)\n",
    "\n",
    "def average(stud1):  #can print without using method \n",
    "    return sum(stud1.smarks) / len(stud1.smarks)\n",
    "\n",
    "print(average(s1))"
   ]
  },
  {
   "cell_type": "code",
   "execution_count": null,
   "id": "d8caefff",
   "metadata": {},
   "outputs": [],
   "source": []
  },
  {
   "cell_type": "code",
   "execution_count": 143,
   "id": "f286ed80",
   "metadata": {},
   "outputs": [
    {
     "name": "stdout",
     "output_type": "stream",
     "text": [
      "4\n",
      "[10, 20, 30, 40, 899]\n"
     ]
    }
   ],
   "source": [
    "# append marks to the list \n",
    "\n",
    "class stud1:\n",
    "    \n",
    "    def __init__(x, sname, smarks):\n",
    "        x.sname = sname\n",
    "        x.smarks = smarks\n",
    "        \n",
    "    def avgmarks(x):\n",
    "        return sum(x.smarks) / len(x.smarks)\n",
    "        \n",
    "s1 = stud1('dhan', [10,20,30])\n",
    "#print(s1.avgmarks())\n",
    "\n",
    "s1.smarks.append(40)\n",
    "print(len(s1.smarks))\n",
    "\n",
    "def avg1(s12):\n",
    "    s12.smarks.append(899)\n",
    "avg1(s1)\n",
    "\n",
    "print(s1.smarks)\n"
   ]
  },
  {
   "cell_type": "code",
   "execution_count": null,
   "id": "9f4823bc",
   "metadata": {},
   "outputs": [],
   "source": []
  },
  {
   "cell_type": "code",
   "execution_count": 67,
   "id": "6fc3ae1a",
   "metadata": {},
   "outputs": [],
   "source": [
    "class stud2:\n",
    "    \n",
    "    def __init__(y):\n",
    "        y.marks = []\n",
    "        \n",
    "s1 = stud2()"
   ]
  },
  {
   "cell_type": "code",
   "execution_count": 68,
   "id": "09c9cd77",
   "metadata": {},
   "outputs": [
    {
     "name": "stdout",
     "output_type": "stream",
     "text": [
      "[10]\n"
     ]
    }
   ],
   "source": [
    "s1.marks.append(10)\n",
    "print(s1.marks)"
   ]
  },
  {
   "cell_type": "code",
   "execution_count": 69,
   "id": "18c52218",
   "metadata": {},
   "outputs": [
    {
     "ename": "TypeError",
     "evalue": "object of type 'stud2' has no len()",
     "output_type": "error",
     "traceback": [
      "\u001b[1;31m---------------------------------------------------------------------------\u001b[0m",
      "\u001b[1;31mTypeError\u001b[0m                                 Traceback (most recent call last)",
      "\u001b[1;32m~\\AppData\\Local\\Temp\\ipykernel_2120\\752168819.py\u001b[0m in \u001b[0;36m<module>\u001b[1;34m\u001b[0m\n\u001b[1;32m----> 1\u001b[1;33m \u001b[0mprint\u001b[0m\u001b[1;33m(\u001b[0m\u001b[0mlen\u001b[0m\u001b[1;33m(\u001b[0m\u001b[0ms1\u001b[0m\u001b[1;33m)\u001b[0m\u001b[1;33m)\u001b[0m\u001b[1;33m\u001b[0m\u001b[1;33m\u001b[0m\u001b[0m\n\u001b[0m",
      "\u001b[1;31mTypeError\u001b[0m: object of type 'stud2' has no len()"
     ]
    }
   ],
   "source": [
    "print(len(s1))"
   ]
  },
  {
   "cell_type": "code",
   "execution_count": null,
   "id": "e87e30c2",
   "metadata": {},
   "outputs": [],
   "source": []
  },
  {
   "cell_type": "code",
   "execution_count": 70,
   "id": "b98a0415",
   "metadata": {},
   "outputs": [
    {
     "name": "stdout",
     "output_type": "stream",
     "text": [
      "[10, 210]\n",
      "2\n"
     ]
    }
   ],
   "source": [
    "class stud2:\n",
    "    \n",
    "    def __init__(y):\n",
    "        y.marks = []\n",
    "        \n",
    "    def __len__(y):\n",
    "        return  len(y.marks)\n",
    "        \n",
    "s1 = stud2()\n",
    "s1.marks.append(10)\n",
    "s1.marks.append(210)\n",
    "print(s1.marks)\n",
    "\n",
    "print(len(s1))"
   ]
  },
  {
   "cell_type": "code",
   "execution_count": 73,
   "id": "8547a369",
   "metadata": {},
   "outputs": [
    {
     "name": "stdout",
     "output_type": "stream",
     "text": [
      "[74, 210]\n"
     ]
    }
   ],
   "source": [
    "class stud2:\n",
    "    \n",
    "    def __init__(y):\n",
    "        y.marks = []\n",
    "        \n",
    "    def __len__(y):\n",
    "        return  len(y.marks)\n",
    "    \n",
    "    def Gracemarks(y):\n",
    "        print(y.marks[0])\n",
    "        \n",
    "s1 = stud2()\n",
    "s1.marks.append(74)\n",
    "s1.marks.append(210)\n",
    "print(s1.marks)\n",
    "\n",
    "#print(len(s1))"
   ]
  },
  {
   "cell_type": "code",
   "execution_count": 75,
   "id": "3460c85b",
   "metadata": {},
   "outputs": [
    {
     "name": "stdout",
     "output_type": "stream",
     "text": [
      "[74, 210]\n",
      "129\n"
     ]
    }
   ],
   "source": [
    "class stud2:\n",
    "    \n",
    "    def __init__(y):\n",
    "        y.marks = []\n",
    "        \n",
    "    def __len__(y):\n",
    "        return  len(y.marks)\n",
    "    \n",
    "    def Gracemarks(y):\n",
    "        print(y.marks[0] + 55)\n",
    "        \n",
    "s1 = stud2()\n",
    "s1.marks.append(74)\n",
    "s1.marks.append(210)\n",
    "print(s1.marks)\n",
    "\n",
    "#print(len(s1))\n",
    "\n",
    "s1.Gracemarks()"
   ]
  },
  {
   "cell_type": "code",
   "execution_count": 76,
   "id": "33a7e5bc",
   "metadata": {},
   "outputs": [
    {
     "name": "stdout",
     "output_type": "stream",
     "text": [
      "[74, 210]\n",
      "129\n"
     ]
    },
    {
     "ename": "TypeError",
     "evalue": "'NoneType' object is not callable",
     "output_type": "error",
     "traceback": [
      "\u001b[1;31m---------------------------------------------------------------------------\u001b[0m",
      "\u001b[1;31mTypeError\u001b[0m                                 Traceback (most recent call last)",
      "\u001b[1;32m~\\AppData\\Local\\Temp\\ipykernel_2120\\1733877174.py\u001b[0m in \u001b[0;36m<module>\u001b[1;34m\u001b[0m\n\u001b[0;32m     18\u001b[0m \u001b[1;31m#print(len(s1))\u001b[0m\u001b[1;33m\u001b[0m\u001b[1;33m\u001b[0m\u001b[0m\n\u001b[0;32m     19\u001b[0m \u001b[1;33m\u001b[0m\u001b[0m\n\u001b[1;32m---> 20\u001b[1;33m \u001b[0ms1\u001b[0m\u001b[1;33m.\u001b[0m\u001b[0mGracemarks\u001b[0m\u001b[1;33m(\u001b[0m\u001b[1;33m)\u001b[0m \u001b[1;31m#error cause of ()\u001b[0m\u001b[1;33m\u001b[0m\u001b[1;33m\u001b[0m\u001b[0m\n\u001b[0m",
      "\u001b[1;31mTypeError\u001b[0m: 'NoneType' object is not callable"
     ]
    }
   ],
   "source": [
    "class stud2:\n",
    "    \n",
    "    def __init__(y):\n",
    "        y.marks = []\n",
    "        \n",
    "    def __len__(y):\n",
    "        return  len(y.marks)\n",
    "    \n",
    "    @property\n",
    "    def Gracemarks(y):\n",
    "        print(y.marks[0] + 55)\n",
    "        \n",
    "s1 = stud2()\n",
    "s1.marks.append(74)\n",
    "s1.marks.append(210)\n",
    "print(s1.marks)\n",
    "\n",
    "#print(len(s1))\n",
    "\n",
    "s1.Gracemarks() #error cause of ()"
   ]
  },
  {
   "cell_type": "code",
   "execution_count": 77,
   "id": "28ce0a23",
   "metadata": {},
   "outputs": [
    {
     "name": "stdout",
     "output_type": "stream",
     "text": [
      "[74, 210]\n",
      "129\n"
     ]
    }
   ],
   "source": [
    "class stud2:\n",
    "    \n",
    "    def __init__(y):\n",
    "        y.marks = []\n",
    "        \n",
    "    def __len__(y):\n",
    "        return  len(y.marks)\n",
    "    \n",
    "    @property  #to use method as a attribute/characteristic, property is a decorator\n",
    "    def Gracemarks(y):\n",
    "        print(y.marks[0] + 55)\n",
    "        \n",
    "s1 = stud2()\n",
    "s1.marks.append(74)\n",
    "s1.marks.append(210)\n",
    "print(s1.marks)\n",
    "\n",
    "#print(len(s1))\n",
    "\n",
    "s1.Gracemarks"
   ]
  },
  {
   "cell_type": "code",
   "execution_count": null,
   "id": "011c9ecd",
   "metadata": {},
   "outputs": [],
   "source": []
  },
  {
   "cell_type": "markdown",
   "id": "60b5e941",
   "metadata": {},
   "source": [
    "# OOPS (Object Oriented Programming System)"
   ]
  },
  {
   "cell_type": "markdown",
   "id": "23bbd3e9",
   "metadata": {},
   "source": [
    "modularity \n",
    "extensibility\n",
    "reusability"
   ]
  },
  {
   "cell_type": "code",
   "execution_count": null,
   "id": "5b5c2502",
   "metadata": {},
   "outputs": [],
   "source": []
  },
  {
   "cell_type": "code",
   "execution_count": null,
   "id": "b18c08c9",
   "metadata": {},
   "outputs": [],
   "source": [
    "#inheritance"
   ]
  },
  {
   "cell_type": "code",
   "execution_count": null,
   "id": "653aa0a6",
   "metadata": {},
   "outputs": [],
   "source": [
    "class Driver:\n",
    "    \n",
    "    def __init__(x, name, mail, wallet):\n",
    "        x.name = name\n",
    "        x.mail = mail\n",
    "        x.wallet = wallet\n",
    "        \n",
    "d1 = Driver('raj', 'raj@mail.com', 2200)\n",
    "        \n",
    "#in inheritance part set the relation to use the above code to below     \n",
    "        \n",
    "class Customer:\n",
    "    \n",
    "     def __init__(x, name, mail, wallet, trip_status):\n",
    "        x.name = name\n",
    "        x.mail = mail\n",
    "        x.wallet = wallet\n",
    "        x.trip_status = trip_status\n",
    "        \n",
    "c1 = Customer('chiru', 'chiru@mail.com', 300, 'active')"
   ]
  },
  {
   "cell_type": "code",
   "execution_count": 80,
   "id": "1619e664",
   "metadata": {},
   "outputs": [
    {
     "name": "stdout",
     "output_type": "stream",
     "text": [
      "chiru chiru@mail.com\n"
     ]
    }
   ],
   "source": [
    "class Driver:\n",
    "    \n",
    "    def __init__(x, name, mail, wallet):\n",
    "        x.name = name\n",
    "        x.mail = mail\n",
    "        x.wallet = wallet\n",
    "        \n",
    "d1 = Driver('raj', 'raj@mail.com', 2200)\n",
    "        \n",
    "#in inheritance part set the relation to use the above code to below     \n",
    "        \n",
    "class Customer(Driver):\n",
    "    \n",
    "     def __init__(x, name, mail, wallet, trip_status):\n",
    "        super().__init__(name, mail, wallet)\n",
    "        #x.trip_status = trip_status\n",
    "        \n",
    "c1 = Customer('chiru', 'chiru@mail.com', 300, 'active')\n",
    "\n",
    "print(c1.name, c1.mail)"
   ]
  },
  {
   "cell_type": "code",
   "execution_count": 81,
   "id": "0899f020",
   "metadata": {},
   "outputs": [
    {
     "ename": "AttributeError",
     "evalue": "'Customer' object has no attribute 'trip_status'",
     "output_type": "error",
     "traceback": [
      "\u001b[1;31m---------------------------------------------------------------------------\u001b[0m",
      "\u001b[1;31mAttributeError\u001b[0m                            Traceback (most recent call last)",
      "\u001b[1;32m~\\AppData\\Local\\Temp\\ipykernel_2120\\651083973.py\u001b[0m in \u001b[0;36m<module>\u001b[1;34m\u001b[0m\n\u001b[1;32m----> 1\u001b[1;33m \u001b[0mprint\u001b[0m\u001b[1;33m(\u001b[0m\u001b[0mc1\u001b[0m\u001b[1;33m.\u001b[0m\u001b[0mname\u001b[0m\u001b[1;33m,\u001b[0m \u001b[0mc1\u001b[0m\u001b[1;33m.\u001b[0m\u001b[0mmail\u001b[0m\u001b[1;33m,\u001b[0m \u001b[0mc1\u001b[0m\u001b[1;33m.\u001b[0m\u001b[0mtrip_status\u001b[0m\u001b[1;33m)\u001b[0m\u001b[1;33m\u001b[0m\u001b[1;33m\u001b[0m\u001b[0m\n\u001b[0m",
      "\u001b[1;31mAttributeError\u001b[0m: 'Customer' object has no attribute 'trip_status'"
     ]
    }
   ],
   "source": [
    "print(c1.name, c1.mail, c1.trip_status)"
   ]
  },
  {
   "cell_type": "code",
   "execution_count": 83,
   "id": "1353daff",
   "metadata": {},
   "outputs": [
    {
     "name": "stdout",
     "output_type": "stream",
     "text": [
      "chiru chiru@mail.com\n"
     ]
    }
   ],
   "source": [
    "class Driver:\n",
    "    \n",
    "    def __init__(x, name, mail, wallet):\n",
    "        x.name = name\n",
    "        x.mail = mail\n",
    "        x.wallet = wallet\n",
    "        \n",
    "d1 = Driver('raj', 'raj@mail.com', 2200)   \n",
    "        \n",
    "class Customer(Driver):\n",
    "    \n",
    "     def __init__(x, name, mail, wallet, trip_status):\n",
    "        super().__init__(name, mail, wallet)\n",
    "        x.trip_status = trip_status\n",
    "        \n",
    "c1 = Customer('chiru', 'chiru@mail.com', 300, 'active')\n",
    "\n",
    "print(c1.name, c1.mail)"
   ]
  },
  {
   "cell_type": "code",
   "execution_count": 84,
   "id": "58726a07",
   "metadata": {},
   "outputs": [
    {
     "name": "stdout",
     "output_type": "stream",
     "text": [
      "chiru chiru@mail.com active\n"
     ]
    }
   ],
   "source": [
    "print(c1.name, c1.mail, c1.trip_status)"
   ]
  },
  {
   "cell_type": "code",
   "execution_count": null,
   "id": "51977676",
   "metadata": {},
   "outputs": [],
   "source": []
  },
  {
   "cell_type": "code",
   "execution_count": null,
   "id": "e6619d1f",
   "metadata": {},
   "outputs": [],
   "source": [
    "#to create a method inside parent class and create another method in child class to use the method created in parent "
   ]
  },
  {
   "cell_type": "code",
   "execution_count": 95,
   "id": "0e63871e",
   "metadata": {},
   "outputs": [
    {
     "name": "stdout",
     "output_type": "stream",
     "text": [
      "not drunk\n",
      "all ok take ride \n"
     ]
    }
   ],
   "source": [
    "class Driver:\n",
    "    \n",
    "    def __init__(x, name, mail, wallet):\n",
    "        x.name = name\n",
    "        x.mail = mail\n",
    "        x.wallet = wallet\n",
    "        \n",
    "    def driverstatus(x):\n",
    "        print(\"not drunk\")\n",
    "        \n",
    "d1 = Driver('raj', 'raj@mail.com', 2200)   \n",
    "        \n",
    "class Customer(Driver):\n",
    "    \n",
    "     def __init__(x, name, mail, wallet, trip_status):\n",
    "        super().__init__(name, mail, wallet)\n",
    "        x.trip_status = trip_status\n",
    "     \n",
    "     def anothermethod(x):\n",
    "        super().driverstatus()\n",
    "        print(\"all ok take ride \")\n",
    "        \n",
    "        \n",
    "c1 = Customer('chiru', 'chiru@mail.com', 300, 'active')\n",
    "\n",
    "c1.anothermethod()"
   ]
  },
  {
   "cell_type": "code",
   "execution_count": null,
   "id": "35f31a1f",
   "metadata": {},
   "outputs": [],
   "source": []
  },
  {
   "cell_type": "markdown",
   "id": "a50c8a5e",
   "metadata": {},
   "source": [
    "#multilevel inheritance\n",
    "\n",
    "now assume both the parent has same method called info(), which method is going to be invoke"
   ]
  },
  {
   "cell_type": "code",
   "execution_count": 1,
   "id": "4c32bd10",
   "metadata": {},
   "outputs": [
    {
     "name": "stdout",
     "output_type": "stream",
     "text": [
      "Driver class\n",
      "Employee class\n"
     ]
    }
   ],
   "source": [
    "class Employee:\n",
    "    def __init__(self,name, email, wallet):\n",
    "        self.name=name\n",
    "        self.email=email\n",
    "        self.wallet=wallet\n",
    "\n",
    "    def info(self):\n",
    "        print(\"Employee class\")\n",
    "\n",
    "\n",
    "class Driver(Employee):\n",
    "    def __init__(self,name, email, wallet):\n",
    "        self.name=name\n",
    "        self.email=email\n",
    "        self.wallet=wallet\n",
    "\n",
    "    def dinfo(self):\n",
    "        print(\"Driver class\")\n",
    "\n",
    "\n",
    "d1= Driver(\"raj\",\"raj@gmail.com\",2201)\n",
    "\n",
    "#  inheritence ( set the relation )\n",
    "class Customer(Driver):\n",
    "    def __init__(self,name, email, wallet, trip_status):\n",
    "        \n",
    "        super().__init__(name,email,wallet)\n",
    "\n",
    "        self.trip_status=trip_status\n",
    "\n",
    "        # Employee.info(self)\n",
    "\n",
    "c1=Customer(\"Naina\",\"nainatalwar@gmail.com\",300,\"Active\")\n",
    "\n",
    "c1.dinfo()\n",
    "c1.info()"
   ]
  },
  {
   "cell_type": "code",
   "execution_count": null,
   "id": "f9569fd0",
   "metadata": {},
   "outputs": [],
   "source": []
  },
  {
   "cell_type": "code",
   "execution_count": 2,
   "id": "14a8592c",
   "metadata": {},
   "outputs": [
    {
     "name": "stdout",
     "output_type": "stream",
     "text": [
      "EmployeeClass\n",
      "hello customer\n"
     ]
    }
   ],
   "source": [
    "class Employee:\n",
    "    def __init__(self):\n",
    "        print(\"EmployeeClass\")\n",
    "        \n",
    "    def hello(self):\n",
    "        print(\"hello employee\")\n",
    "\n",
    "class Driver(Employee):\n",
    "    def __init__(self):\n",
    "        super().__init__()\n",
    "        \n",
    "    def hello(self):\n",
    "        print(\"hello Driver\")\n",
    "\n",
    "class Customer(Driver):\n",
    "    def __init__(self):\n",
    "        super().__init__()\n",
    "\n",
    "    def hello(self):\n",
    "        print(\"hello customer\")\n",
    "        \n",
    "\n",
    "\n",
    "c1=Customer()\n",
    "c1.hello()\n"
   ]
  },
  {
   "cell_type": "code",
   "execution_count": null,
   "id": "5db0b7ef",
   "metadata": {},
   "outputs": [],
   "source": []
  },
  {
   "cell_type": "code",
   "execution_count": 3,
   "id": "7bd88d83",
   "metadata": {},
   "outputs": [
    {
     "name": "stdout",
     "output_type": "stream",
     "text": [
      "200\n",
      "30\n"
     ]
    }
   ],
   "source": [
    "class AddNumber:\n",
    "    def addition1(self,x,y):\n",
    "        return x+y\n",
    "\n",
    "\n",
    "\n",
    "\n",
    "class SubNumber:\n",
    "    def subtract1(self,x,y):\n",
    "        return x-y\n",
    "\n",
    "\n",
    "\n",
    "\n",
    "\n",
    "class ArithmeticOPeration(AddNumber,SubNumber):\n",
    "    def mulitply(self,x,y):\n",
    "        return x*y\n",
    "\n",
    "\n",
    "a1=ArithmeticOPeration()\n",
    "\n",
    "print( a1.mulitply(10,20) )\n",
    "\n",
    "print( a1.addition1(10,20) )"
   ]
  },
  {
   "cell_type": "code",
   "execution_count": null,
   "id": "db88c8a7",
   "metadata": {},
   "outputs": [],
   "source": []
  },
  {
   "cell_type": "markdown",
   "id": "b73c4fee",
   "metadata": {},
   "source": [
    "## Polymorphism \n",
    "\n",
    "using operator overloading and method overriding"
   ]
  },
  {
   "cell_type": "code",
   "execution_count": null,
   "id": "9fc4ac63",
   "metadata": {},
   "outputs": [],
   "source": []
  },
  {
   "cell_type": "code",
   "execution_count": 96,
   "id": "0dbb8afa",
   "metadata": {},
   "outputs": [
    {
     "name": "stdout",
     "output_type": "stream",
     "text": [
      "python class\n"
     ]
    }
   ],
   "source": [
    "class Bigdata:\n",
    "    def info(x):\n",
    "        print(\"big data class\")\n",
    "        \n",
    "class Python1(Bigdata):\n",
    "    def info(x):\n",
    "        print(\"python class\")\n",
    "\n",
    "p1 = Python1()\n",
    "p1.info()"
   ]
  },
  {
   "cell_type": "code",
   "execution_count": 97,
   "id": "dd9e6279",
   "metadata": {},
   "outputs": [
    {
     "name": "stdout",
     "output_type": "stream",
     "text": [
      "big data class\n"
     ]
    }
   ],
   "source": [
    "Bigdata.info(p1)"
   ]
  },
  {
   "cell_type": "code",
   "execution_count": 98,
   "id": "e6f51bcf",
   "metadata": {},
   "outputs": [
    {
     "name": "stdout",
     "output_type": "stream",
     "text": [
      "big data class\n"
     ]
    }
   ],
   "source": [
    "b1 = Bigdata()\n",
    "Bigdata.info(b1)"
   ]
  },
  {
   "cell_type": "code",
   "execution_count": 99,
   "id": "0aa5ff6a",
   "metadata": {},
   "outputs": [
    {
     "name": "stdout",
     "output_type": "stream",
     "text": [
      "python class\n"
     ]
    }
   ],
   "source": [
    "Python1.info(b1)"
   ]
  },
  {
   "cell_type": "code",
   "execution_count": null,
   "id": "c9601b50",
   "metadata": {},
   "outputs": [],
   "source": []
  },
  {
   "cell_type": "code",
   "execution_count": 104,
   "id": "37692642",
   "metadata": {},
   "outputs": [],
   "source": [
    "class Bigdata:\n",
    "    def info(x):\n",
    "        print(\"big data class\")\n",
    "        \n",
    "class Python1(Bigdata):  #without self/x\n",
    "    def info():\n",
    "        print(\"python class\")\n",
    "\n",
    "p1 = Python1()\n"
   ]
  },
  {
   "cell_type": "code",
   "execution_count": 105,
   "id": "90307e6d",
   "metadata": {},
   "outputs": [
    {
     "ename": "TypeError",
     "evalue": "info() takes 0 positional arguments but 1 was given",
     "output_type": "error",
     "traceback": [
      "\u001b[1;31m---------------------------------------------------------------------------\u001b[0m",
      "\u001b[1;31mTypeError\u001b[0m                                 Traceback (most recent call last)",
      "\u001b[1;32m~\\AppData\\Local\\Temp\\ipykernel_2120\\2861763687.py\u001b[0m in \u001b[0;36m<module>\u001b[1;34m\u001b[0m\n\u001b[1;32m----> 1\u001b[1;33m \u001b[0mp1\u001b[0m\u001b[1;33m.\u001b[0m\u001b[0minfo\u001b[0m\u001b[1;33m(\u001b[0m\u001b[1;33m)\u001b[0m\u001b[1;33m\u001b[0m\u001b[1;33m\u001b[0m\u001b[0m\n\u001b[0m",
      "\u001b[1;31mTypeError\u001b[0m: info() takes 0 positional arguments but 1 was given"
     ]
    }
   ],
   "source": [
    "p1.info()"
   ]
  },
  {
   "cell_type": "code",
   "execution_count": 106,
   "id": "fd12ef14",
   "metadata": {},
   "outputs": [
    {
     "name": "stdout",
     "output_type": "stream",
     "text": [
      "python class\n"
     ]
    }
   ],
   "source": [
    "Python1.info()"
   ]
  },
  {
   "cell_type": "code",
   "execution_count": null,
   "id": "525ed1b0",
   "metadata": {},
   "outputs": [],
   "source": []
  },
  {
   "cell_type": "code",
   "execution_count": 107,
   "id": "087b81dc",
   "metadata": {},
   "outputs": [
    {
     "name": "stdout",
     "output_type": "stream",
     "text": [
      "python class tushar\n"
     ]
    }
   ],
   "source": [
    "class Bigdata:\n",
    "    def info(x):\n",
    "        print(\"big data class\")\n",
    "        \n",
    "class Python1:\n",
    "    sname = 'tushar'\n",
    "    def info():\n",
    "        print(\"python class\", Python1.sname)\n",
    "\n",
    "b1 = Bigdata()\n",
    "p1 = Python1()\n",
    "\n",
    "Python1.info()"
   ]
  },
  {
   "cell_type": "code",
   "execution_count": null,
   "id": "4860cbba",
   "metadata": {},
   "outputs": [],
   "source": []
  },
  {
   "cell_type": "code",
   "execution_count": 108,
   "id": "7c187366",
   "metadata": {},
   "outputs": [
    {
     "name": "stdout",
     "output_type": "stream",
     "text": [
      "<__main__.Addingnumber object at 0x000002056F409880>\n"
     ]
    }
   ],
   "source": [
    "#operator overloading\n",
    "\n",
    "class Addingnumber:\n",
    "    \n",
    "    def __init__(x, num1, num2):\n",
    "        x.num1 = num1\n",
    "        x.num2 = num2\n",
    "        \n",
    "a1 = Addingnumber(20, 30)\n",
    "\n",
    "print(a1)"
   ]
  },
  {
   "cell_type": "code",
   "execution_count": 109,
   "id": "04c61c34",
   "metadata": {},
   "outputs": [
    {
     "name": "stdout",
     "output_type": "stream",
     "text": [
      "Adding number has 20 30\n"
     ]
    }
   ],
   "source": [
    "class Addingnumber:\n",
    "    \n",
    "    def __init__(x, num1, num2):\n",
    "        x.num1 = num1\n",
    "        x.num2 = num2\n",
    "        \n",
    "    def __str__(x):\n",
    "        return f\"Adding number has {x.num1} {x.num2}\"\n",
    "    \n",
    "    \n",
    "a1 = Addingnumber(20, 30)\n",
    "\n",
    "print(a1)"
   ]
  },
  {
   "cell_type": "code",
   "execution_count": 110,
   "id": "c7867c0d",
   "metadata": {},
   "outputs": [
    {
     "name": "stdout",
     "output_type": "stream",
     "text": [
      "Adding number has 20 30\n"
     ]
    }
   ],
   "source": [
    "class Addingnumber:\n",
    "    \n",
    "    def __init__(x, num1, num2):\n",
    "        x.num1 = num1\n",
    "        x.num2 = num2\n",
    "        \n",
    "    def __repr__(x):\n",
    "        return f\"Adding number has {x.num1} {x.num2}\"\n",
    "    \n",
    "    \n",
    "a1 = Addingnumber(20, 30)\n",
    "\n",
    "print(a1)  #a1 object wiill call the string method __repr__ or __str__"
   ]
  },
  {
   "cell_type": "code",
   "execution_count": 112,
   "id": "c75abda6",
   "metadata": {},
   "outputs": [
    {
     "name": "stdout",
     "output_type": "stream",
     "text": [
      "Adding number has 20 30\n",
      "Adding number has 40 50\n"
     ]
    },
    {
     "ename": "TypeError",
     "evalue": "unsupported operand type(s) for +: 'Addingnumber' and 'Addingnumber'",
     "output_type": "error",
     "traceback": [
      "\u001b[1;31m---------------------------------------------------------------------------\u001b[0m",
      "\u001b[1;31mTypeError\u001b[0m                                 Traceback (most recent call last)",
      "\u001b[1;32m~\\AppData\\Local\\Temp\\ipykernel_2120\\1629249229.py\u001b[0m in \u001b[0;36m<module>\u001b[1;34m\u001b[0m\n\u001b[0;32m     15\u001b[0m \u001b[0mprint\u001b[0m\u001b[1;33m(\u001b[0m\u001b[0ma2\u001b[0m\u001b[1;33m)\u001b[0m\u001b[1;33m\u001b[0m\u001b[1;33m\u001b[0m\u001b[0m\n\u001b[0;32m     16\u001b[0m \u001b[1;33m\u001b[0m\u001b[0m\n\u001b[1;32m---> 17\u001b[1;33m \u001b[0mprint\u001b[0m\u001b[1;33m(\u001b[0m\u001b[0ma1\u001b[0m \u001b[1;33m+\u001b[0m \u001b[0ma2\u001b[0m\u001b[1;33m)\u001b[0m\u001b[1;33m\u001b[0m\u001b[1;33m\u001b[0m\u001b[0m\n\u001b[0m",
      "\u001b[1;31mTypeError\u001b[0m: unsupported operand type(s) for +: 'Addingnumber' and 'Addingnumber'"
     ]
    }
   ],
   "source": [
    "class Addingnumber:\n",
    "    \n",
    "    def __init__(x, num1, num2):\n",
    "        x.num1 = num1\n",
    "        x.num2 = num2\n",
    "        \n",
    "    def __repr__(x):\n",
    "        return f\"Adding number has {x.num1} {x.num2}\"\n",
    "    \n",
    "    \n",
    "a1 = Addingnumber(20, 30)\n",
    "a2 = Addingnumber(40, 50)\n",
    "\n",
    "print(a1)\n",
    "print(a2)\n",
    "\n",
    "print(a1 + a2)"
   ]
  },
  {
   "cell_type": "code",
   "execution_count": 113,
   "id": "4e245895",
   "metadata": {},
   "outputs": [
    {
     "name": "stdout",
     "output_type": "stream",
     "text": [
      "Adding number has 20 30\n",
      "Adding number has 40 50\n",
      "hey\n"
     ]
    }
   ],
   "source": [
    "class Addingnumber:\n",
    "    \n",
    "    def __init__(x, num1, num2):\n",
    "        x.num1 = num1\n",
    "        x.num2 = num2\n",
    "        \n",
    "    def __repr__(x):\n",
    "        return f\"Adding number has {x.num1} {x.num2}\"\n",
    "    \n",
    "    #x = a1, obj2 = a2\n",
    "    def __add__(x, obj2):\n",
    "        return \"hey\"\n",
    "    \n",
    "    \n",
    "a1 = Addingnumber(20, 30)\n",
    "a2 = Addingnumber(40, 50)\n",
    "\n",
    "print(a1)\n",
    "print(a2)\n",
    "\n",
    "print(a1 + a2)"
   ]
  },
  {
   "cell_type": "code",
   "execution_count": 114,
   "id": "36e1112f",
   "metadata": {},
   "outputs": [
    {
     "name": "stdout",
     "output_type": "stream",
     "text": [
      "Adding number has 20 30\n",
      "Adding number has 40 50\n",
      "20\n"
     ]
    }
   ],
   "source": [
    "class Addingnumber:\n",
    "    \n",
    "    def __init__(x, num1, num2):\n",
    "        x.num1 = num1\n",
    "        x.num2 = num2\n",
    "        \n",
    "    def __repr__(x):\n",
    "        return f\"Adding number has {x.num1} {x.num2}\"\n",
    "    \n",
    "    #x = a1, obj2 = a2\n",
    "    def __add__(x, obj2):\n",
    "        return x.num1\n",
    "    \n",
    "    \n",
    "a1 = Addingnumber(20, 30)\n",
    "a2 = Addingnumber(40, 50)\n",
    "\n",
    "print(a1)\n",
    "print(a2)\n",
    "\n",
    "print(a1 + a2)"
   ]
  },
  {
   "cell_type": "code",
   "execution_count": 115,
   "id": "c4626172",
   "metadata": {},
   "outputs": [
    {
     "name": "stdout",
     "output_type": "stream",
     "text": [
      "40\n"
     ]
    }
   ],
   "source": [
    "print(a2 + a1)"
   ]
  },
  {
   "cell_type": "code",
   "execution_count": 122,
   "id": "adfde299",
   "metadata": {},
   "outputs": [
    {
     "name": "stdout",
     "output_type": "stream",
     "text": [
      "Adding number has 20 30\n",
      "Adding number has 40 50\n",
      "(60, 80)\n"
     ]
    }
   ],
   "source": [
    "class Addingnumber:\n",
    "    \n",
    "    def __init__(x, num1, num2):\n",
    "        x.num1 = num1\n",
    "        x.num2 = num2\n",
    "        \n",
    "    def __repr__(x):\n",
    "        return f\"Adding number has {x.num1} {x.num2}\"\n",
    "    \n",
    "    #x = a1, obj2 = a2\n",
    "    def __add__(x, obj2):\n",
    "        y = x.num1 + obj2.num1  #20+40\n",
    "        z = x.num2 + obj2.num2  #30+50\n",
    "        return (y,z)\n",
    "    \n",
    "    \n",
    "a1 = Addingnumber(20, 30)\n",
    "a2 = Addingnumber(40, 50)\n",
    "\n",
    "print(a1)\n",
    "print(a2)\n",
    "\n",
    "print(a1 + a2)"
   ]
  },
  {
   "cell_type": "code",
   "execution_count": 121,
   "id": "1164ba40",
   "metadata": {},
   "outputs": [
    {
     "name": "stdout",
     "output_type": "stream",
     "text": [
      "Adding number has 20 30\n",
      "Adding number has 40 50\n",
      "Adding number has 60 80\n"
     ]
    }
   ],
   "source": [
    "class Addingnumber:\n",
    "    \n",
    "    def __init__(x, num1, num2):\n",
    "        x.num1 = num1\n",
    "        x.num2 = num2\n",
    "        \n",
    "    def __repr__(x):\n",
    "        return f\"Adding number has {x.num1} {x.num2}\"\n",
    "    \n",
    "    #x = a1, obj2 = a2\n",
    "    def __add__(x, obj2):\n",
    "        y = x.num1 + obj2.num1  #20+40\n",
    "        z = x.num2 + obj2.num2  #30+50\n",
    "        return Addingnumber(y,z)\n",
    "    \n",
    "    \n",
    "a1 = Addingnumber(20, 30)\n",
    "a2 = Addingnumber(40, 50)\n",
    "\n",
    "print(a1)\n",
    "print(a2)\n",
    "\n",
    "print(a1 + a2)"
   ]
  },
  {
   "cell_type": "code",
   "execution_count": null,
   "id": "e8310927",
   "metadata": {},
   "outputs": [],
   "source": []
  },
  {
   "cell_type": "code",
   "execution_count": null,
   "id": "050a48b5",
   "metadata": {},
   "outputs": [],
   "source": [
    "create a class having 3 instance variable \n",
    "compare the addition of square of each individual is greater than the addition of square of second object\n",
    "\n",
    "return false otherwise return true\n",
    "\n",
    "example : (2,1,4)  (3,4,1)\n",
    "            2^2 + 1^2 + 4^2 = 21\n",
    "            3^2 + 4^1 + 1^2 = 25\n",
    "        \n",
    "        21>25 (return true) otherwise false\n",
    "    \n",
    "can use __gt__ dunder"
   ]
  },
  {
   "cell_type": "code",
   "execution_count": null,
   "id": "611e34c3",
   "metadata": {},
   "outputs": [],
   "source": []
  },
  {
   "cell_type": "code",
   "execution_count": 139,
   "id": "a5722063",
   "metadata": {},
   "outputs": [
    {
     "name": "stdout",
     "output_type": "stream",
     "text": [
      "21\n",
      "26\n",
      "True\n"
     ]
    }
   ],
   "source": [
    "class sqcomp:\n",
    "    \n",
    "    def __init__(x, num1, num2, num3):\n",
    "        x.num1 = num1\n",
    "        x.num2 = num2\n",
    "        x.num3 = num3\n",
    "    \n",
    "    def square(x):\n",
    "        return int(x.num1**2 + x.num2**2 + x.num3**2)\n",
    "    \n",
    "    def __gt__(x, obj2):\n",
    "        if (x.square() > obj2.square()):\n",
    "            return False\n",
    "        else:\n",
    "            return True\n",
    "    \n",
    "    \n",
    "    \n",
    "d1 = sqcomp(2,1,4)\n",
    "d2 = sqcomp(3,4,1)\n",
    "  \n",
    "print(d1.square())\n",
    "print(d2.square())\n",
    "\n",
    "print(d1 > d2)"
   ]
  },
  {
   "cell_type": "code",
   "execution_count": null,
   "id": "3d4dad8e",
   "metadata": {},
   "outputs": [],
   "source": []
  },
  {
   "cell_type": "code",
   "execution_count": null,
   "id": "f0d96742",
   "metadata": {},
   "outputs": [],
   "source": []
  },
  {
   "cell_type": "code",
   "execution_count": null,
   "id": "98835f96",
   "metadata": {},
   "outputs": [],
   "source": [
    "constraint\n",
    "\n",
    "1 <= n <= 10^6"
   ]
  },
  {
   "cell_type": "code",
   "execution_count": 126,
   "id": "cf2fd779",
   "metadata": {},
   "outputs": [
    {
     "data": {
      "text/plain": [
       "1000000"
      ]
     },
     "execution_count": 126,
     "metadata": {},
     "output_type": "execute_result"
    }
   ],
   "source": [
    "take i/p n\n",
    "find the total of evry digit after creating square"
   ]
  },
  {
   "cell_type": "code",
   "execution_count": null,
   "id": "ce8c5ce2",
   "metadata": {},
   "outputs": [],
   "source": []
  },
  {
   "cell_type": "code",
   "execution_count": 132,
   "id": "1c5fd35b",
   "metadata": {},
   "outputs": [
    {
     "name": "stdout",
     "output_type": "stream",
     "text": [
      "32\n",
      "3\n",
      "0\n",
      "29\n"
     ]
    }
   ],
   "source": [
    "n = 324\n",
    "#3^2 + 2^2 + 4^2\n",
    "\n",
    "sum = 0\n",
    "\n",
    "while(n>0):\n",
    "    \n",
    "    r = n % 10\n",
    "\n",
    "    sum = sum + r ** 2\n",
    "\n",
    "    n = n//10\n",
    "    \n",
    "    print(n)\n",
    "\n",
    "print(sum)"
   ]
  },
  {
   "cell_type": "code",
   "execution_count": 131,
   "id": "619f916c",
   "metadata": {},
   "outputs": [
    {
     "name": "stdout",
     "output_type": "stream",
     "text": [
      "0\n"
     ]
    }
   ],
   "source": []
  },
  {
   "cell_type": "code",
   "execution_count": 1,
   "id": "7ae5fdba",
   "metadata": {},
   "outputs": [],
   "source": [
    "def fun_sq(n):\n",
    "    if n < 0:\n",
    "        return n ** 2\n",
    "    else:\n",
    "        return (n % 10) ** 2 + fun_sq(n // 10)"
   ]
  },
  {
   "cell_type": "code",
   "execution_count": null,
   "id": "baf9661c",
   "metadata": {},
   "outputs": [],
   "source": [
    "fun_sq(324)"
   ]
  },
  {
   "cell_type": "code",
   "execution_count": 135,
   "id": "8620bb92",
   "metadata": {},
   "outputs": [
    {
     "name": "stdout",
     "output_type": "stream",
     "text": [
      "Enter a number: 324\n",
      "The total of every digit after creating squares of those digits: 29\n"
     ]
    }
   ],
   "source": [
    "def find_total(n):\n",
    "    total = 0\n",
    "    while n > 0:\n",
    "        digit = n % 10\n",
    "        total += digit ** 2\n",
    "        n //= 10\n",
    "    return total\n",
    "\n",
    "n = int(input(\"Enter a number: \"))\n",
    "result = find_total(n)\n",
    "print(\"The total of every digit after creating squares of those digits:\", result)"
   ]
  },
  {
   "cell_type": "code",
   "execution_count": null,
   "id": "c0655b7b",
   "metadata": {},
   "outputs": [],
   "source": []
  },
  {
   "cell_type": "code",
   "execution_count": null,
   "id": "4a332ce1",
   "metadata": {},
   "outputs": [],
   "source": []
  },
  {
   "cell_type": "code",
   "execution_count": null,
   "id": "3a0f7a5d",
   "metadata": {},
   "outputs": [],
   "source": []
  },
  {
   "cell_type": "code",
   "execution_count": null,
   "id": "654087b4",
   "metadata": {},
   "outputs": [],
   "source": []
  },
  {
   "cell_type": "code",
   "execution_count": null,
   "id": "e7558c9a",
   "metadata": {},
   "outputs": [],
   "source": []
  },
  {
   "cell_type": "code",
   "execution_count": null,
   "id": "097af77f",
   "metadata": {},
   "outputs": [],
   "source": []
  },
  {
   "cell_type": "code",
   "execution_count": null,
   "id": "d3e066bb",
   "metadata": {},
   "outputs": [],
   "source": []
  },
  {
   "cell_type": "code",
   "execution_count": null,
   "id": "fb8f9fb3",
   "metadata": {},
   "outputs": [],
   "source": []
  },
  {
   "cell_type": "code",
   "execution_count": null,
   "id": "6a04f693",
   "metadata": {},
   "outputs": [],
   "source": []
  },
  {
   "cell_type": "code",
   "execution_count": null,
   "id": "b996674e",
   "metadata": {},
   "outputs": [],
   "source": []
  },
  {
   "cell_type": "code",
   "execution_count": null,
   "id": "93a89cab",
   "metadata": {},
   "outputs": [],
   "source": []
  },
  {
   "cell_type": "code",
   "execution_count": null,
   "id": "567520d7",
   "metadata": {},
   "outputs": [],
   "source": []
  },
  {
   "cell_type": "code",
   "execution_count": null,
   "id": "8b09c21d",
   "metadata": {},
   "outputs": [],
   "source": []
  },
  {
   "cell_type": "code",
   "execution_count": null,
   "id": "ede24d6e",
   "metadata": {},
   "outputs": [],
   "source": []
  },
  {
   "cell_type": "code",
   "execution_count": null,
   "id": "4a7da5ad",
   "metadata": {},
   "outputs": [],
   "source": []
  },
  {
   "cell_type": "code",
   "execution_count": null,
   "id": "fb6177a9",
   "metadata": {},
   "outputs": [],
   "source": []
  },
  {
   "cell_type": "code",
   "execution_count": null,
   "id": "7bc0e584",
   "metadata": {},
   "outputs": [],
   "source": []
  },
  {
   "cell_type": "code",
   "execution_count": null,
   "id": "8af728ce",
   "metadata": {},
   "outputs": [],
   "source": []
  },
  {
   "cell_type": "code",
   "execution_count": null,
   "id": "ae28718c",
   "metadata": {},
   "outputs": [],
   "source": []
  },
  {
   "cell_type": "code",
   "execution_count": null,
   "id": "a0e5e874",
   "metadata": {},
   "outputs": [],
   "source": []
  },
  {
   "cell_type": "code",
   "execution_count": null,
   "id": "d633c2a8",
   "metadata": {},
   "outputs": [],
   "source": []
  },
  {
   "cell_type": "code",
   "execution_count": null,
   "id": "52e9e91d",
   "metadata": {},
   "outputs": [],
   "source": []
  },
  {
   "cell_type": "code",
   "execution_count": null,
   "id": "68f633f3",
   "metadata": {},
   "outputs": [],
   "source": []
  },
  {
   "cell_type": "code",
   "execution_count": null,
   "id": "5c17fe7b",
   "metadata": {},
   "outputs": [],
   "source": []
  },
  {
   "cell_type": "code",
   "execution_count": null,
   "id": "3dc23c0b",
   "metadata": {},
   "outputs": [],
   "source": []
  },
  {
   "cell_type": "code",
   "execution_count": null,
   "id": "f18542a7",
   "metadata": {},
   "outputs": [],
   "source": []
  },
  {
   "cell_type": "code",
   "execution_count": null,
   "id": "3df60529",
   "metadata": {},
   "outputs": [],
   "source": []
  },
  {
   "cell_type": "code",
   "execution_count": null,
   "id": "2a1cf90a",
   "metadata": {},
   "outputs": [],
   "source": []
  },
  {
   "cell_type": "code",
   "execution_count": null,
   "id": "4cf1cf4e",
   "metadata": {},
   "outputs": [],
   "source": []
  },
  {
   "cell_type": "code",
   "execution_count": null,
   "id": "41e892a5",
   "metadata": {},
   "outputs": [],
   "source": []
  },
  {
   "cell_type": "code",
   "execution_count": null,
   "id": "2cf603a2",
   "metadata": {},
   "outputs": [],
   "source": []
  },
  {
   "cell_type": "code",
   "execution_count": null,
   "id": "ee55a49d",
   "metadata": {},
   "outputs": [],
   "source": []
  },
  {
   "cell_type": "code",
   "execution_count": null,
   "id": "14430d73",
   "metadata": {},
   "outputs": [],
   "source": []
  },
  {
   "cell_type": "code",
   "execution_count": null,
   "id": "ff25addf",
   "metadata": {},
   "outputs": [],
   "source": []
  },
  {
   "cell_type": "code",
   "execution_count": null,
   "id": "4e97a3f2",
   "metadata": {},
   "outputs": [],
   "source": []
  },
  {
   "cell_type": "code",
   "execution_count": null,
   "id": "a3e8d0f2",
   "metadata": {},
   "outputs": [],
   "source": []
  },
  {
   "cell_type": "code",
   "execution_count": null,
   "id": "b29f84ea",
   "metadata": {},
   "outputs": [],
   "source": []
  },
  {
   "cell_type": "code",
   "execution_count": null,
   "id": "088f6054",
   "metadata": {},
   "outputs": [],
   "source": []
  },
  {
   "cell_type": "code",
   "execution_count": null,
   "id": "3b41245b",
   "metadata": {},
   "outputs": [],
   "source": []
  },
  {
   "cell_type": "code",
   "execution_count": null,
   "id": "373903dc",
   "metadata": {},
   "outputs": [],
   "source": []
  },
  {
   "cell_type": "code",
   "execution_count": null,
   "id": "62d203cb",
   "metadata": {},
   "outputs": [],
   "source": []
  },
  {
   "cell_type": "code",
   "execution_count": null,
   "id": "19447063",
   "metadata": {},
   "outputs": [],
   "source": []
  },
  {
   "cell_type": "code",
   "execution_count": null,
   "id": "460fc1e6",
   "metadata": {},
   "outputs": [],
   "source": []
  },
  {
   "cell_type": "code",
   "execution_count": null,
   "id": "72af2613",
   "metadata": {},
   "outputs": [],
   "source": []
  },
  {
   "cell_type": "code",
   "execution_count": null,
   "id": "efe58d34",
   "metadata": {},
   "outputs": [],
   "source": []
  },
  {
   "cell_type": "code",
   "execution_count": null,
   "id": "1b84eeb5",
   "metadata": {},
   "outputs": [],
   "source": []
  }
 ],
 "metadata": {
  "kernelspec": {
   "display_name": "Python 3 (ipykernel)",
   "language": "python",
   "name": "python3"
  },
  "language_info": {
   "codemirror_mode": {
    "name": "ipython",
    "version": 3
   },
   "file_extension": ".py",
   "mimetype": "text/x-python",
   "name": "python",
   "nbconvert_exporter": "python",
   "pygments_lexer": "ipython3",
   "version": "3.9.13"
  }
 },
 "nbformat": 4,
 "nbformat_minor": 5
}
