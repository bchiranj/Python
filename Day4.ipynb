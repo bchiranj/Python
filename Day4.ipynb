{
 "cells": [
  {
   "cell_type": "code",
   "execution_count": null,
   "id": "9f54e9c2",
   "metadata": {},
   "outputs": [],
   "source": []
  },
  {
   "cell_type": "raw",
   "id": "abe8510b",
   "metadata": {},
   "source": [
    "1. Create 2 lists with 2 common elemets. Create another list containing only the common elements from both the lists"
   ]
  },
  {
   "cell_type": "code",
   "execution_count": 1,
   "id": "bcc3d712",
   "metadata": {},
   "outputs": [
    {
     "data": {
      "text/plain": [
       "[45, 6]"
      ]
     },
     "execution_count": 1,
     "metadata": {},
     "output_type": "execute_result"
    }
   ],
   "source": [
    "a = [3,45,6,7,9]\n",
    "b = [2,45,6,8,20]\n",
    "\n",
    "[data for data in a if data in b]"
   ]
  },
  {
   "cell_type": "code",
   "execution_count": 2,
   "id": "22b45bd9",
   "metadata": {},
   "outputs": [
    {
     "data": {
      "text/plain": [
       "['John', 'Mayank']"
      ]
     },
     "execution_count": 2,
     "metadata": {},
     "output_type": "execute_result"
    }
   ],
   "source": [
    "x = ['John', 'Mayank', 'Aman']\n",
    "y = ['john', 'ram', 'Mayank']\n",
    "\n",
    "yl = [data.lower() for data in y]\n",
    "\n",
    "[i for i in x if i.lower() in yl]"
   ]
  },
  {
   "cell_type": "code",
   "execution_count": 3,
   "id": "f8e15dac",
   "metadata": {},
   "outputs": [
    {
     "name": "stdout",
     "output_type": "stream",
     "text": [
      "{'aman', 'mayank', 'john'}\n",
      "{'ram', 'mayank', 'john'}\n"
     ]
    },
    {
     "data": {
      "text/plain": [
       "{'John', 'Mayank'}"
      ]
     },
     "execution_count": 3,
     "metadata": {},
     "output_type": "execute_result"
    }
   ],
   "source": [
    "s1 = {data.lower() for data in x}\n",
    "s2 = {data.lower() for data in y}\n",
    "\n",
    "print(s1)\n",
    "print(s2)\n",
    "\n",
    "{data.title() for data in s1.intersection(s2)}"
   ]
  },
  {
   "cell_type": "code",
   "execution_count": null,
   "id": "e5e9a6eb",
   "metadata": {},
   "outputs": [],
   "source": []
  },
  {
   "cell_type": "raw",
   "id": "b1e163de",
   "metadata": {},
   "source": [
    "2. Dictionary Comprehension - to take key value pairs from list"
   ]
  },
  {
   "cell_type": "code",
   "execution_count": 4,
   "id": "58a87059",
   "metadata": {},
   "outputs": [
    {
     "data": {
      "text/plain": [
       "{'chiru': 20, 'dhan': 30}"
      ]
     },
     "execution_count": 4,
     "metadata": {},
     "output_type": "execute_result"
    }
   ],
   "source": [
    "studentname = ['chiru', 'dhan']\n",
    "agelist = [20,30]\n",
    "\n",
    "{studentname[i] : agelist[i] for i in range(2)}"
   ]
  },
  {
   "cell_type": "code",
   "execution_count": null,
   "id": "b24f0910",
   "metadata": {},
   "outputs": [],
   "source": []
  },
  {
   "cell_type": "raw",
   "id": "203407c7",
   "metadata": {},
   "source": [
    "3. Find cube using nested list comprehension"
   ]
  },
  {
   "cell_type": "code",
   "execution_count": 5,
   "id": "99481ac2",
   "metadata": {},
   "outputs": [
    {
     "data": {
      "text/plain": [
       "[81, 256, 625, 1296]"
      ]
     },
     "execution_count": 5,
     "metadata": {},
     "output_type": "execute_result"
    }
   ],
   "source": [
    "e = [3,4,5,6]\n",
    "\n",
    "[i*i for i in [j*j for j in e]] "
   ]
  },
  {
   "cell_type": "code",
   "execution_count": null,
   "id": "bd90967c",
   "metadata": {},
   "outputs": [],
   "source": []
  },
  {
   "cell_type": "raw",
   "id": "059cb4e0",
   "metadata": {},
   "source": [
    "4. convert a number into a binary, hexadecimal and octadecimal"
   ]
  },
  {
   "cell_type": "code",
   "execution_count": 6,
   "id": "8cb0c6bf",
   "metadata": {},
   "outputs": [
    {
     "name": "stdout",
     "output_type": "stream",
     "text": [
      "Enter the number to be converted : 45\n",
      "the binary value of 45 is 0b101101\n",
      "the hexadecimal value of 45 is 0x2d\n",
      "the octadecimal value of 45 is 0o55\n"
     ]
    }
   ],
   "source": [
    "\n",
    "\n",
    "num = int(input(\"Enter the number to be converted : \"))\n",
    "\n",
    "print(f\"the binary value of {num} is {bin(num)}\")\n",
    "print(f\"the hexadecimal value of {num} is {hex(num)}\")\n",
    "print(f\"the octadecimal value of {num} is {oct(num)}\")"
   ]
  },
  {
   "cell_type": "code",
   "execution_count": null,
   "id": "1d6ae19c",
   "metadata": {},
   "outputs": [],
   "source": []
  },
  {
   "cell_type": "raw",
   "id": "7d6271a8",
   "metadata": {},
   "source": [
    "5. take a input from a user, seperated by commas and you need to check whether that particular word is available in the line of\n",
    "another file , if it is available we will be saving it into a file called 'datamatch.txt' and in the case the file is \n",
    "not available create the file"
   ]
  },
  {
   "cell_type": "code",
   "execution_count": 8,
   "id": "b562753a",
   "metadata": {},
   "outputs": [
    {
     "name": "stdout",
     "output_type": "stream",
     "text": [
      "Enter: second, first\n",
      "second\n"
     ]
    }
   ],
   "source": [
    "x  = input(\"Enter: \").split(',')\n",
    "fileobj = open(r\"C:\\Users\\miles.MILE-MM-4242-LA\\Documents\\test.txt\",  \"r\")\n",
    "\n",
    "testdata = [line.rstrip('\\n') for line in fileobj.readlines()]\n",
    "fileobj.close()\n",
    "\n",
    "newfileobj = open(\"matchingfile.txt\", 'a')\n",
    "\n",
    "for i in x:\n",
    "    if i in testdata:\n",
    "        print(i)\n",
    "        newfileobj.write(i)\n",
    "    else:\n",
    "        continue\n",
    "\n",
    "newfileobj.close()\n",
    "\n"
   ]
  },
  {
   "cell_type": "code",
   "execution_count": 9,
   "id": "e22ec4ef",
   "metadata": {},
   "outputs": [
    {
     "name": "stdout",
     "output_type": "stream",
     "text": [
      "Enter a stringthird,second\n",
      "first\n",
      "second\n",
      "third\n",
      "fourth\n"
     ]
    }
   ],
   "source": [
    "#another way\n",
    "\n",
    "s=input(\"Enter a string\")\n",
    "f=open(r\"C:\\Users\\miles.MILE-MM-4242-LA\\Documents\\test.txt\",\"r\")\n",
    "fr=f.read()\n",
    "fw=open(\"datamatch.txt\",\"w\")\n",
    "print(fr)\n",
    "for i in s.split(\",\"):\n",
    "    if i in fr:\n",
    "        fw.write(\"\\n\"+i)\n",
    "f.close()\n",
    "fw.close()"
   ]
  },
  {
   "cell_type": "code",
   "execution_count": null,
   "id": "ef79b021",
   "metadata": {},
   "outputs": [],
   "source": []
  },
  {
   "cell_type": "raw",
   "id": "eba1eb6c",
   "metadata": {},
   "source": [
    "6. How to read the csv file in Python  ( csvData.txt)\n",
    "\tExample\n",
    "\tname,age,email\n",
    "\ttushar,60,tushar@gmail.com\n",
    "\thappy,50,happy@yahoo.com\n",
    "\tjanny,40,janny@gmail.com\n",
    "\n",
    "( You need to read the csv file but without the header)\n",
    "- In case if the user belong to the domain of \"gmail.com\" in the email column\n",
    "Insert those user seprated by \"$\" sign into a new file called as \"dollarSeprated.txt\""
   ]
  },
  {
   "cell_type": "code",
   "execution_count": 10,
   "id": "4bfb1a21",
   "metadata": {},
   "outputs": [
    {
     "name": "stdout",
     "output_type": "stream",
     "text": [
      "[['tushar', '60', 'tushar@gmail.com'], ['happy', '50', 'happy@yahoo.com'], ['janny', '40', 'janny@gmail.com']]\n"
     ]
    }
   ],
   "source": [
    "fileobj = open(r\"C:\\Users\\miles.MILE-MM-4242-LA\\Documents\\csv.txt\", \"r\")\n",
    "\n",
    "csv_data = fileobj.readlines()\n",
    "\n",
    "data = [i.rstrip('\\n').split(',') for i in csv_data[1:]]\n",
    "print(data)\n",
    "\n",
    "\n",
    "resultobj = open(\"result_csv\", 'w')\n",
    "for i in data:\n",
    "    if \"@gmail.com\" in i[2]:\n",
    "        resultobj.write(\"$\".join(i[::2]))\n",
    "\n",
    "resultobj.close()\n",
    "fileobj.close()"
   ]
  },
  {
   "cell_type": "code",
   "execution_count": 11,
   "id": "24047a3b",
   "metadata": {},
   "outputs": [
    {
     "name": "stdout",
     "output_type": "stream",
     "text": [
      "[['tushar', '60', 'tushar@gmail.com'], ['happy', '50', 'happy@yahoo.com'], ['janny', '40', 'janny@gmail.com']]\n"
     ]
    }
   ],
   "source": [
    "#another way\n",
    "\n",
    "f=open(r\"C:\\Users\\miles.MILE-MM-4242-LA\\Documents\\csv.txt\",'r')\n",
    "fr=f.readlines()\n",
    "fr2=[i.rstrip('\\n').split(\",\") for i in fr[1:] ]\n",
    "print(fr2)\n",
    "fw=open('gmailfile.txt','w')\n",
    "for i in fr2:\n",
    "    if \"gmail.com\" in i[2]:\n",
    "        fw.write(i[0]+\"$\"+i[2]+\"\\n\")\n",
    "f.close()\n",
    "fw.close()\n",
    "        "
   ]
  },
  {
   "cell_type": "code",
   "execution_count": null,
   "id": "5a945205",
   "metadata": {},
   "outputs": [],
   "source": []
  },
  {
   "cell_type": "code",
   "execution_count": null,
   "id": "714fdb33",
   "metadata": {},
   "outputs": [],
   "source": []
  },
  {
   "cell_type": "code",
   "execution_count": null,
   "id": "02d9bdb3",
   "metadata": {},
   "outputs": [],
   "source": []
  },
  {
   "cell_type": "code",
   "execution_count": null,
   "id": "26e3279b",
   "metadata": {},
   "outputs": [],
   "source": []
  },
  {
   "cell_type": "code",
   "execution_count": null,
   "id": "eb890bba",
   "metadata": {},
   "outputs": [],
   "source": []
  },
  {
   "cell_type": "code",
   "execution_count": null,
   "id": "b0c32c40",
   "metadata": {},
   "outputs": [],
   "source": []
  },
  {
   "cell_type": "code",
   "execution_count": null,
   "id": "f2c7c88a",
   "metadata": {},
   "outputs": [],
   "source": []
  },
  {
   "cell_type": "code",
   "execution_count": null,
   "id": "6133afad",
   "metadata": {},
   "outputs": [],
   "source": []
  },
  {
   "cell_type": "code",
   "execution_count": null,
   "id": "e822f178",
   "metadata": {},
   "outputs": [],
   "source": []
  },
  {
   "cell_type": "code",
   "execution_count": null,
   "id": "3e6dc3c7",
   "metadata": {},
   "outputs": [],
   "source": []
  },
  {
   "cell_type": "code",
   "execution_count": null,
   "id": "11e83239",
   "metadata": {},
   "outputs": [],
   "source": []
  },
  {
   "cell_type": "code",
   "execution_count": null,
   "id": "b3648c71",
   "metadata": {},
   "outputs": [],
   "source": []
  },
  {
   "cell_type": "code",
   "execution_count": null,
   "id": "7c5aabad",
   "metadata": {},
   "outputs": [],
   "source": []
  },
  {
   "cell_type": "code",
   "execution_count": null,
   "id": "638e1318",
   "metadata": {},
   "outputs": [],
   "source": []
  },
  {
   "cell_type": "code",
   "execution_count": null,
   "id": "0832f0e7",
   "metadata": {},
   "outputs": [],
   "source": []
  },
  {
   "cell_type": "code",
   "execution_count": null,
   "id": "560489db",
   "metadata": {},
   "outputs": [],
   "source": []
  },
  {
   "cell_type": "code",
   "execution_count": null,
   "id": "d3618c77",
   "metadata": {},
   "outputs": [],
   "source": []
  },
  {
   "cell_type": "code",
   "execution_count": null,
   "id": "388bdc2e",
   "metadata": {},
   "outputs": [],
   "source": []
  },
  {
   "cell_type": "code",
   "execution_count": null,
   "id": "7ded2a03",
   "metadata": {},
   "outputs": [],
   "source": []
  },
  {
   "cell_type": "code",
   "execution_count": null,
   "id": "e6bdf835",
   "metadata": {},
   "outputs": [],
   "source": []
  },
  {
   "cell_type": "code",
   "execution_count": null,
   "id": "26f6d5ba",
   "metadata": {},
   "outputs": [],
   "source": []
  },
  {
   "cell_type": "code",
   "execution_count": null,
   "id": "6a923618",
   "metadata": {},
   "outputs": [],
   "source": []
  },
  {
   "cell_type": "code",
   "execution_count": null,
   "id": "026433f1",
   "metadata": {},
   "outputs": [],
   "source": []
  },
  {
   "cell_type": "code",
   "execution_count": null,
   "id": "36f56faf",
   "metadata": {},
   "outputs": [],
   "source": []
  },
  {
   "cell_type": "code",
   "execution_count": null,
   "id": "1d85250e",
   "metadata": {},
   "outputs": [],
   "source": []
  },
  {
   "cell_type": "code",
   "execution_count": null,
   "id": "8282d477",
   "metadata": {},
   "outputs": [],
   "source": []
  },
  {
   "cell_type": "code",
   "execution_count": null,
   "id": "506c2238",
   "metadata": {},
   "outputs": [],
   "source": []
  },
  {
   "cell_type": "code",
   "execution_count": null,
   "id": "08caac5e",
   "metadata": {},
   "outputs": [],
   "source": []
  },
  {
   "cell_type": "code",
   "execution_count": null,
   "id": "7d1e65a6",
   "metadata": {},
   "outputs": [],
   "source": []
  },
  {
   "cell_type": "code",
   "execution_count": null,
   "id": "89906d94",
   "metadata": {},
   "outputs": [],
   "source": []
  },
  {
   "cell_type": "code",
   "execution_count": null,
   "id": "e795d8f0",
   "metadata": {},
   "outputs": [],
   "source": []
  },
  {
   "cell_type": "code",
   "execution_count": null,
   "id": "2b915800",
   "metadata": {},
   "outputs": [],
   "source": []
  },
  {
   "cell_type": "code",
   "execution_count": null,
   "id": "f719fea2",
   "metadata": {},
   "outputs": [],
   "source": []
  },
  {
   "cell_type": "code",
   "execution_count": null,
   "id": "f2548259",
   "metadata": {},
   "outputs": [],
   "source": []
  },
  {
   "cell_type": "code",
   "execution_count": null,
   "id": "78c70bc1",
   "metadata": {},
   "outputs": [],
   "source": []
  },
  {
   "cell_type": "code",
   "execution_count": null,
   "id": "ff4c43f6",
   "metadata": {},
   "outputs": [],
   "source": []
  }
 ],
 "metadata": {
  "kernelspec": {
   "display_name": "Python 3 (ipykernel)",
   "language": "python",
   "name": "python3"
  },
  "language_info": {
   "codemirror_mode": {
    "name": "ipython",
    "version": 3
   },
   "file_extension": ".py",
   "mimetype": "text/x-python",
   "name": "python",
   "nbconvert_exporter": "python",
   "pygments_lexer": "ipython3",
   "version": "3.9.13"
  }
 },
 "nbformat": 4,
 "nbformat_minor": 5
}
