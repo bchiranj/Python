{
 "cells": [
  {
   "cell_type": "markdown",
   "id": "19216f7c",
   "metadata": {},
   "source": [
    "1. Take a input from the user and check for the string should remove all the repetative character and return the final string\n",
    "\tExample => hello\n",
    "\tAns\t=> heo\n",
    "\n",
    "\tExample => inkokk\n",
    "\t\t=> inko\n",
    "\n",
    "\tExample : iivosss\n",
    "\t\t: vo"
   ]
  },
  {
   "cell_type": "code",
   "execution_count": 4,
   "id": "0439be9d",
   "metadata": {},
   "outputs": [
    {
     "name": "stdout",
     "output_type": "stream",
     "text": [
      "enter the string : inkokk\n",
      "inko\n"
     ]
    }
   ],
   "source": [
    "s=input(\"enter the string : \")\n",
    "res=''\n",
    "i=0\n",
    "while(i<len(s)-1):\n",
    "    if s[i]==s[i+1]:\n",
    "        count=2\n",
    "        for j in range(i+2,len(s)):\n",
    "            if s[i]==s[j]:\n",
    "                count+=1\n",
    "            else:\n",
    "                break\n",
    "        i+=(count)\n",
    "        \n",
    "    else:\n",
    "        res+=s[i]\n",
    "        i+=1\n",
    "if s[-2]!=s[-1]:\n",
    "    res+=s[-1]\n",
    "print(res)"
   ]
  },
  {
   "cell_type": "code",
   "execution_count": null,
   "id": "73416c45",
   "metadata": {},
   "outputs": [],
   "source": []
  },
  {
   "cell_type": "raw",
   "id": "05bf12e1",
   "metadata": {},
   "source": [
    "2. Pattern 1\n",
    "\n",
    "    *\n",
    "    **\n",
    "    ***\n",
    "    ****"
   ]
  },
  {
   "cell_type": "code",
   "execution_count": 5,
   "id": "80478f65",
   "metadata": {},
   "outputs": [
    {
     "name": "stdout",
     "output_type": "stream",
     "text": [
      "*\n",
      "**\n",
      "***\n",
      "****\n"
     ]
    }
   ],
   "source": [
    "r=4\n",
    "c=4\n",
    "for i in range(1,r+1):\n",
    "    for j in range(i):\n",
    "        print(\"*\",end='')\n",
    "    print()"
   ]
  },
  {
   "cell_type": "code",
   "execution_count": null,
   "id": "bf3debcb",
   "metadata": {},
   "outputs": [],
   "source": []
  },
  {
   "cell_type": "raw",
   "id": "2ab8eb67",
   "metadata": {},
   "source": [
    "3. Pattern 2\n",
    "\n",
    "  ****\n",
    "  ***\n",
    "  **\n",
    "  *"
   ]
  },
  {
   "cell_type": "code",
   "execution_count": 6,
   "id": "c675d4c6",
   "metadata": {},
   "outputs": [
    {
     "name": "stdout",
     "output_type": "stream",
     "text": [
      "****\n",
      "***\n",
      "**\n",
      "*\n",
      "\n"
     ]
    }
   ],
   "source": [
    "r=4\n",
    "c=4\n",
    "for i  in range(r,-1,-1):\n",
    "    for j in range(i):\n",
    "        print(\"*\",end='')\n",
    "    print()"
   ]
  },
  {
   "cell_type": "code",
   "execution_count": null,
   "id": "fbee6fc3",
   "metadata": {},
   "outputs": [],
   "source": []
  },
  {
   "cell_type": "raw",
   "id": "04c79284",
   "metadata": {},
   "source": [
    "4. Pattern 3\n",
    "\n",
    "    A\n",
    "    AB\n",
    "    ABC\n",
    "    ABCD"
   ]
  },
  {
   "cell_type": "code",
   "execution_count": 7,
   "id": "90ec2f11",
   "metadata": {},
   "outputs": [
    {
     "name": "stdout",
     "output_type": "stream",
     "text": [
      "\n",
      "A\n",
      "AB\n",
      "ABC\n",
      "ABCD\n"
     ]
    }
   ],
   "source": [
    "r=4\n",
    "for i  in range(r+1):\n",
    "    c='A'\n",
    "    for j in range(i):\n",
    "        print(chr(ord(c)+j),end='')\n",
    "    print()"
   ]
  },
  {
   "cell_type": "code",
   "execution_count": null,
   "id": "0ce9a41d",
   "metadata": {},
   "outputs": [],
   "source": []
  },
  {
   "cell_type": "raw",
   "id": "c80581f0",
   "metadata": {},
   "source": [
    "5. Pattern 4\n",
    "\n",
    "    A\n",
    "    BC\n",
    "    DEF\n",
    "    GHIJ"
   ]
  },
  {
   "cell_type": "code",
   "execution_count": 8,
   "id": "b64245fb",
   "metadata": {},
   "outputs": [
    {
     "name": "stdout",
     "output_type": "stream",
     "text": [
      "\n",
      "A\n",
      "BC\n",
      "DEF\n",
      "GHIJ\n"
     ]
    }
   ],
   "source": [
    "r=4\n",
    "char='A'\n",
    "for i  in range(r+1):\n",
    "    for j in range(i):\n",
    "        print(char,end='')\n",
    "        char=chr(ord(char)+1)\n",
    "        \n",
    "    print()"
   ]
  },
  {
   "cell_type": "code",
   "execution_count": null,
   "id": "bf1cec8e",
   "metadata": {},
   "outputs": [],
   "source": []
  },
  {
   "cell_type": "raw",
   "id": "53b5da81",
   "metadata": {},
   "source": [
    "6. Pattern 5\n",
    "    \n",
    "    1\n",
    "    12\n",
    "    123\n",
    "    1234"
   ]
  },
  {
   "cell_type": "code",
   "execution_count": 14,
   "id": "c3e2e10e",
   "metadata": {},
   "outputs": [
    {
     "name": "stdout",
     "output_type": "stream",
     "text": [
      "1 \n",
      "1 2 \n",
      "1 2 3 \n",
      "1 2 3 4 \n"
     ]
    }
   ],
   "source": [
    "rows = 4\n",
    "for i in range(1, rows + 1):\n",
    "    for j in range(1, i + 1):\n",
    "        print(j, end=' ')\n",
    "    print('')"
   ]
  },
  {
   "cell_type": "code",
   "execution_count": null,
   "id": "e2589092",
   "metadata": {},
   "outputs": [],
   "source": []
  },
  {
   "cell_type": "raw",
   "id": "b3a58e61",
   "metadata": {},
   "source": [
    "7. Pattern 6   \n",
    "        \n",
    "        *\n",
    "       ***\n",
    "      *****\n",
    "     *******"
   ]
  },
  {
   "cell_type": "code",
   "execution_count": 12,
   "id": "fffcc2cc",
   "metadata": {},
   "outputs": [
    {
     "name": "stdout",
     "output_type": "stream",
     "text": [
      "   *\n",
      "  ***\n",
      " *****\n",
      "*******\n"
     ]
    }
   ],
   "source": [
    "r=4\n",
    "for i in range(1,r+1):\n",
    "    for j in range(1,r-i+1):\n",
    "        print(\" \",end='')\n",
    "    for k in range(1,2*i):\n",
    "        print(\"*\",end='')\n",
    "    print()"
   ]
  },
  {
   "cell_type": "code",
   "execution_count": null,
   "id": "6b8174ff",
   "metadata": {},
   "outputs": [],
   "source": []
  },
  {
   "cell_type": "raw",
   "id": "d1e69f9b",
   "metadata": {},
   "source": [
    "8. Pattern 7\n",
    "  \n",
    "      *******\n",
    "       *****\n",
    "        ***\n",
    "         *"
   ]
  },
  {
   "cell_type": "code",
   "execution_count": 13,
   "id": "8bd9a62f",
   "metadata": {},
   "outputs": [
    {
     "name": "stdout",
     "output_type": "stream",
     "text": [
      "*******\n",
      " *****\n",
      "  ***\n",
      "   *\n"
     ]
    }
   ],
   "source": [
    "r=4\n",
    "for i in range(r):\n",
    "    for j in range(i):\n",
    "        print(\" \",end='')\n",
    "    for k in range(1,2*(r-i)):\n",
    "        print(\"*\",end='')\n",
    "    print()\n",
    "    "
   ]
  },
  {
   "cell_type": "code",
   "execution_count": null,
   "id": "7c8420b4",
   "metadata": {},
   "outputs": [],
   "source": []
  },
  {
   "cell_type": "raw",
   "id": "68eb18c8",
   "metadata": {},
   "source": [
    "9. Pattern 8\n",
    "\n",
    "     ****\n",
    "     *  *\n",
    "     *  *\n",
    "     ****\n"
   ]
  },
  {
   "cell_type": "code",
   "execution_count": 10,
   "id": "ca798be6",
   "metadata": {},
   "outputs": [
    {
     "name": "stdout",
     "output_type": "stream",
     "text": [
      "* * * * \n",
      "*     * \n",
      "*     * \n",
      "* * * * \n"
     ]
    }
   ],
   "source": [
    "n=4\n",
    "for i in range(n):\n",
    "    for j in range(n):\n",
    "        if i==0 or i==n-1 or j==0 or j==n-1:\n",
    "            print(\"*\",end=' ')\n",
    "        else:\n",
    "            print(\" \",end=' ')\n",
    "    print()"
   ]
  },
  {
   "cell_type": "code",
   "execution_count": null,
   "id": "30b7ba96",
   "metadata": {},
   "outputs": [],
   "source": []
  },
  {
   "cell_type": "raw",
   "id": "d7a29053",
   "metadata": {},
   "source": [
    "10. Pattern 9\n",
    "\n",
    "    1\n",
    "    2 4 \n",
    "    3 6 9\n",
    "    4 8 12 16\n",
    "    5 10 15 20 25"
   ]
  },
  {
   "cell_type": "code",
   "execution_count": 11,
   "id": "35d7a8ae",
   "metadata": {},
   "outputs": [
    {
     "name": "stdout",
     "output_type": "stream",
     "text": [
      "1 \n",
      "2 4 \n",
      "3 6 9 \n",
      "4 8 12 16 \n",
      "5 10 15 20 25 \n"
     ]
    }
   ],
   "source": [
    "n=5\n",
    "for i in range(1,n+1):\n",
    "    for j in range(1,i+1):\n",
    "        print(i*j,end=' ')\n",
    "    else:\n",
    "        print()"
   ]
  },
  {
   "cell_type": "code",
   "execution_count": null,
   "id": "7e82c05d",
   "metadata": {},
   "outputs": [],
   "source": []
  },
  {
   "cell_type": "raw",
   "id": "ca02ef72",
   "metadata": {},
   "source": [
    "11. Take two input from the user and validate the input given if it's integer then perform the arithmetic operation"
   ]
  },
  {
   "cell_type": "code",
   "execution_count": 17,
   "id": "34f72d9c",
   "metadata": {},
   "outputs": [
    {
     "name": "stdout",
     "output_type": "stream",
     "text": [
      "Enter 1st number 6\n",
      "Enter 2nd number 7\n",
      "13 -1 0.8571428571428571 6 0 279936\n"
     ]
    }
   ],
   "source": [
    "def is_integer(a):\n",
    "    num='0123456789'\n",
    "    for char in a:\n",
    "        if char not in num:\n",
    "            return False\n",
    "    return True\n",
    "while(True):\n",
    "    a=input('Enter 1st number ')\n",
    "    b=input('Enter 2nd number ')\n",
    "    if is_integer(a) and is_integer(b):\n",
    "        a=int(a)\n",
    "        b=int(b)\n",
    "        print(a+b,a-b,a/b,a%b,a//b,a**b)\n",
    "        break\n",
    "    "
   ]
  },
  {
   "cell_type": "code",
   "execution_count": null,
   "id": "f153f7cb",
   "metadata": {},
   "outputs": [],
   "source": []
  },
  {
   "cell_type": "code",
   "execution_count": null,
   "id": "7d19ea81",
   "metadata": {},
   "outputs": [],
   "source": []
  }
 ],
 "metadata": {
  "kernelspec": {
   "display_name": "Python 3 (ipykernel)",
   "language": "python",
   "name": "python3"
  },
  "language_info": {
   "codemirror_mode": {
    "name": "ipython",
    "version": 3
   },
   "file_extension": ".py",
   "mimetype": "text/x-python",
   "name": "python",
   "nbconvert_exporter": "python",
   "pygments_lexer": "ipython3",
   "version": "3.9.13"
  }
 },
 "nbformat": 4,
 "nbformat_minor": 5
}
