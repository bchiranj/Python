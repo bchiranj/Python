{
 "cells": [
  {
   "cell_type": "code",
   "execution_count": null,
   "id": "5288dbe1",
   "metadata": {},
   "outputs": [],
   "source": []
  },
  {
   "cell_type": "raw",
   "id": "647a5042",
   "metadata": {},
   "source": [
    "1. swap 2 variables without using 3rd variable"
   ]
  },
  {
   "cell_type": "code",
   "execution_count": 1,
   "id": "3701a520",
   "metadata": {},
   "outputs": [
    {
     "name": "stdout",
     "output_type": "stream",
     "text": [
      "3 1\n"
     ]
    }
   ],
   "source": [
    "x=1\n",
    "y=3\n",
    "\n",
    "x=x+y\n",
    "y=x-y\n",
    "x=x-y\n",
    "print(x,y)"
   ]
  },
  {
   "cell_type": "code",
   "execution_count": null,
   "id": "746b7a45",
   "metadata": {},
   "outputs": [],
   "source": []
  },
  {
   "cell_type": "raw",
   "id": "0fefeb02",
   "metadata": {},
   "source": [
    "2. write a function to take a list value and create its cube if its a integer number and make the changes for the original data on every index"
   ]
  },
  {
   "cell_type": "code",
   "execution_count": 3,
   "id": "dbc909a2",
   "metadata": {},
   "outputs": [
    {
     "name": "stdout",
     "output_type": "stream",
     "text": [
      "[1, 8, 27, 'ab', 64]\n"
     ]
    }
   ],
   "source": [
    "def cube(l):\n",
    "    for i in range(len(l)):\n",
    "        if type(l[i])==int:\n",
    "            l[i]=l[i]**3\n",
    "a=[1,2,3,'ab',4]\n",
    "cube(a)\n",
    "print(a)"
   ]
  },
  {
   "cell_type": "code",
   "execution_count": null,
   "id": "b64dcca1",
   "metadata": {},
   "outputs": [],
   "source": []
  },
  {
   "cell_type": "raw",
   "id": "04587799",
   "metadata": {},
   "source": [
    "3.  Create a function which takes an parameter of string type\n",
    "\t- Accept the string in case if the string contains all Vowels ( a,e,i,o,u)"
   ]
  },
  {
   "cell_type": "code",
   "execution_count": 4,
   "id": "9feece4b",
   "metadata": {},
   "outputs": [
    {
     "name": "stdout",
     "output_type": "stream",
     "text": [
      "True\n"
     ]
    }
   ],
   "source": [
    "def has_all_vowels(s):\n",
    "    a=set(s)\n",
    "    c=0\n",
    "    for i in a:\n",
    "        if i in 'aeiou':\n",
    "            c+=1\n",
    "    if c==5:\n",
    "        return True\n",
    "    else:\n",
    "        return False\n",
    "s='aeiousAll'\n",
    "print(has_all_vowels(s.lower()))"
   ]
  },
  {
   "cell_type": "code",
   "execution_count": null,
   "id": "54b2a005",
   "metadata": {},
   "outputs": [],
   "source": []
  },
  {
   "cell_type": "raw",
   "id": "fda0d8bd",
   "metadata": {},
   "source": [
    "4. Accept the string in case if we have vowels but in even positions of the data ( all vowels)\n",
    "\n",
    "Otherwise return string not accepted"
   ]
  },
  {
   "cell_type": "code",
   "execution_count": 16,
   "id": "7889bcaa",
   "metadata": {},
   "outputs": [
    {
     "name": "stdout",
     "output_type": "stream",
     "text": [
      "String rejected as vowels are not in even positions\n"
     ]
    }
   ],
   "source": [
    "def check_vowel_in_even_pos(s):\n",
    "    flag=True\n",
    "    if has_all_vowels(s):\n",
    "        for i in s:\n",
    "            if s.index('a')%2==1 or s.index('e')%2==1 or s.index('i')%2==1 or s.index('o')%2==1 or s.index('u')%2==1:\n",
    "                flag=False\n",
    "                break\n",
    "    return flag\n",
    "s='adrezisoxu'\n",
    "if check_vowel_in_even_pos(s):\n",
    "    print(\"String accepted\")\n",
    "else:\n",
    "    print(\"String rejected as vowels are not in even positions\")"
   ]
  },
  {
   "cell_type": "code",
   "execution_count": null,
   "id": "38ad93be",
   "metadata": {},
   "outputs": [],
   "source": []
  },
  {
   "cell_type": "raw",
   "id": "72ae0ea5",
   "metadata": {},
   "source": [
    "5. Write a program to find lcm of 2 numbers"
   ]
  },
  {
   "cell_type": "code",
   "execution_count": 20,
   "id": "f83cd8e7",
   "metadata": {},
   "outputs": [
    {
     "name": "stdout",
     "output_type": "stream",
     "text": [
      "575\n"
     ]
    }
   ],
   "source": [
    "a=23\n",
    "b=25\n",
    "maxi=max(a,b)\n",
    "lcm=maxi\n",
    "i=1\n",
    "while(True):\n",
    "    if maxi*i%a==0 and maxi*i%b==0:\n",
    "        lcm=maxi*i\n",
    "        break;\n",
    "    i+=1\n",
    "print(lcm)\n",
    "        "
   ]
  },
  {
   "cell_type": "code",
   "execution_count": null,
   "id": "01e219bd",
   "metadata": {},
   "outputs": [],
   "source": []
  },
  {
   "cell_type": "raw",
   "id": "dc4c1b0d",
   "metadata": {},
   "source": [
    "6. Write a program to find gcd of 2 numbers"
   ]
  },
  {
   "cell_type": "code",
   "execution_count": 19,
   "id": "e45758c5",
   "metadata": {},
   "outputs": [
    {
     "name": "stdout",
     "output_type": "stream",
     "text": [
      "6\n"
     ]
    }
   ],
   "source": [
    "a=12\n",
    "b=18\n",
    "mini=min(a,b)\n",
    "i=1\n",
    "gcd=1\n",
    "while(i<=mini):\n",
    "    if a%i==0 and b%i==0:\n",
    "        if gcd<i:\n",
    "            gcd=i\n",
    "    i+=1\n",
    "print(gcd)"
   ]
  },
  {
   "cell_type": "code",
   "execution_count": null,
   "id": "da3b5dae",
   "metadata": {},
   "outputs": [],
   "source": []
  },
  {
   "cell_type": "code",
   "execution_count": null,
   "id": "9969e7c1",
   "metadata": {},
   "outputs": [],
   "source": [
    "7. Find lcm of multiple elements by using variable length arguments in the function"
   ]
  },
  {
   "cell_type": "code",
   "execution_count": 22,
   "id": "24b0eb5a",
   "metadata": {},
   "outputs": [
    {
     "name": "stdout",
     "output_type": "stream",
     "text": [
      "600\n"
     ]
    }
   ],
   "source": [
    "def find_lcm(*args):\n",
    "    if len(args)<2:\n",
    "        print(\"Please enter atleast 2 numbers to find LCM\")\n",
    "        return\n",
    "    else:\n",
    "        \n",
    "        m=max(args)\n",
    "        i=1\n",
    "        lcm=m\n",
    "        while True:\n",
    "            count=0\n",
    "            for e in args:\n",
    "                if m*i%e!=0:\n",
    "                    break\n",
    "                else:\n",
    "                    count+=1\n",
    "            if count==len(args):\n",
    "                lcm=m*i\n",
    "                break\n",
    "            i+=1\n",
    "    return lcm\n",
    "print(find_lcm(10,20,30,40,60,50))\n",
    "                \n",
    "        "
   ]
  },
  {
   "cell_type": "code",
   "execution_count": null,
   "id": "d3f17681",
   "metadata": {},
   "outputs": [],
   "source": []
  },
  {
   "cell_type": "raw",
   "id": "9fafbb88",
   "metadata": {},
   "source": [
    "8. Create a lambda function to get the table of any number"
   ]
  },
  {
   "cell_type": "code",
   "execution_count": 23,
   "id": "c7ae9524",
   "metadata": {},
   "outputs": [
    {
     "name": "stdout",
     "output_type": "stream",
     "text": [
      "enter number 5\n",
      "5\n",
      "10\n",
      "15\n",
      "20\n",
      "25\n",
      "30\n",
      "35\n",
      "40\n",
      "45\n",
      "50\n"
     ]
    }
   ],
   "source": [
    "i = int(input(\"enter number \"))\n",
    "d = list(map(lambda x : str(x*i) ,range(1,11)))\n",
    "print('\\n'.join(d))"
   ]
  },
  {
   "cell_type": "code",
   "execution_count": null,
   "id": "859e4d54",
   "metadata": {},
   "outputs": [],
   "source": []
  },
  {
   "cell_type": "raw",
   "id": "d2d44e0f",
   "metadata": {},
   "source": [
    "9. create a list of dictionary values, having the key as names and marks"
   ]
  },
  {
   "cell_type": "code",
   "execution_count": 27,
   "id": "aa08096d",
   "metadata": {},
   "outputs": [],
   "source": [
    "l2 = [{'name':'sudheer', 'marks':[10,20,30,40]}, {'name':'chiru', 'marks':[10,20,30,40]}, {'name':'dhan', 'marks':[10,20,30,40]}]"
   ]
  },
  {
   "cell_type": "code",
   "execution_count": 28,
   "id": "100bf900",
   "metadata": {},
   "outputs": [
    {
     "name": "stdout",
     "output_type": "stream",
     "text": [
      "Name:  sudheer  Marks : [10, 20, 30, 40]\n",
      "Name:  chiru  Marks : [10, 20, 30, 40]\n",
      "Name:  dhan  Marks : [10, 20, 30, 40]\n"
     ]
    }
   ],
   "source": [
    "for i in l2:\n",
    "       print(\"Name: \",i['name'],\" Marks :\",i['marks'])"
   ]
  },
  {
   "cell_type": "code",
   "execution_count": 29,
   "id": "7ed6cef6",
   "metadata": {},
   "outputs": [
    {
     "name": "stdout",
     "output_type": "stream",
     "text": [
      "sudheer 25.0\n",
      "chiru 25.0\n",
      "dhan 25.0\n"
     ]
    }
   ],
   "source": [
    "#to get avg of marks\n",
    "\n",
    "for i in l2:\n",
    "    print(i['name'], sum(i['marks'])/len(i['marks']))"
   ]
  },
  {
   "cell_type": "code",
   "execution_count": 31,
   "id": "847b8463",
   "metadata": {},
   "outputs": [
    {
     "name": "stdout",
     "output_type": "stream",
     "text": [
      "Name:  sudheer  Min:  10  Max  40\n",
      "Name:  chiru  Min:  10  Max  40\n",
      "Name:  dhan  Min:  10  Max  40\n"
     ]
    }
   ],
   "source": [
    "#min and mx marks\n",
    "\n",
    "for i in l2:\n",
    "    i['max']=lambda i:max(i['marks'])\n",
    "    i['min']=lambda i:min(i['marks'])\n",
    "    print(\"Name: \",i['name'],\" Min: \",i['min'](i),\" Max \",i['max'](i))"
   ]
  },
  {
   "cell_type": "code",
   "execution_count": null,
   "id": "9feb721e",
   "metadata": {},
   "outputs": [],
   "source": []
  },
  {
   "cell_type": "code",
   "execution_count": null,
   "id": "8865f2d5",
   "metadata": {},
   "outputs": [],
   "source": []
  },
  {
   "cell_type": "code",
   "execution_count": null,
   "id": "7a550330",
   "metadata": {},
   "outputs": [],
   "source": []
  },
  {
   "cell_type": "code",
   "execution_count": null,
   "id": "8d721046",
   "metadata": {},
   "outputs": [],
   "source": []
  }
 ],
 "metadata": {
  "kernelspec": {
   "display_name": "Python 3 (ipykernel)",
   "language": "python",
   "name": "python3"
  },
  "language_info": {
   "codemirror_mode": {
    "name": "ipython",
    "version": 3
   },
   "file_extension": ".py",
   "mimetype": "text/x-python",
   "name": "python",
   "nbconvert_exporter": "python",
   "pygments_lexer": "ipython3",
   "version": "3.9.13"
  }
 },
 "nbformat": 4,
 "nbformat_minor": 5
}
